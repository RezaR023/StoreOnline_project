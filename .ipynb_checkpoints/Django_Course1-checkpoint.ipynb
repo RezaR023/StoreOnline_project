{
 "cells": [
  {
   "cell_type": "markdown",
   "metadata": {},
   "source": [
    "# <font color=\"blue\">Django course, part 1:</font>"
   ]
  },
  {
   "cell_type": "markdown",
   "metadata": {},
   "source": [
    "## <font color=\"blue\">1- Djangot fundamentals</font>"
   ]
  },
  {
   "cell_type": "markdown",
   "metadata": {},
   "source": [
    "##### Django is a free and open-source framework for building web applications with Python"
   ]
  },
  {
   "cell_type": "markdown",
   "metadata": {},
   "source": [
    "#### the most popular frameworks are: \n",
    "    - Dajango\n",
    "    - Flask\n",
    "    - Tornado\n",
    "    - Bottle\n",
    "    - Falcon\n",
    "    - Hug"
   ]
  },
  {
   "cell_type": "markdown",
   "metadata": {},
   "source": [
    "As an example: we wanna build an application and publish it in rezabuy.com. This website will have two parts or two applications. A front-end that is the part that is loaded inside a web browser on a client machine. The back-end is the part that runs on a web server, and is resposlibe for data processing, validating business rules, etc. After pointing your browser to rezabuy.com. This address is called URL (Uniform resource locator). It is basically a way to locate a source on the interent. The source can be web page, image video, pdf, so on. Then, your browser sends a request to the server to say for example show the home page. The web sever takes this request and returns a reponse. This data exchange is defined by a protocol called HTTP, Hypertext Transfer Protcol. It defines how servers and clients can communicate.\n",
    "    Two methods of sending reponse to the clients: One option is to generate the requested page (HTML) on the server and return it to the client. We use HTML (Hypertext Markup Language, a simple language for representing web pages and their content). So, in other hand, one option is to generate the web page on the server and return an HTML document to the clients. The other option is to return only data (like the list of products) needed on the requested page and have the client to generate the page.\n",
    "    So, In the second case, the server essentially become a gateway to the data. On the server, we can provide endpoints that the clients can talk to, to get or save various pieces of data. So, we can provide an endpoint to get the list of products, and another endpoint to get the list of orders someone has placed. All these endpoints represent the interface that clients can use to talk to the server."
   ]
  },
  {
   "cell_type": "markdown",
   "metadata": {},
   "source": [
    "In technical term, we say the server provides an API (application programming interface) to clients."
   ]
  },
  {
   "cell_type": "markdown",
   "metadata": {},
   "source": [
    "Clients: REACT, ANGULAR, VUE (are used by front-end developers)\n",
    "\n",
    "Server side tools for building backends: Django, ASP.NET CORE (for C# developers), EXPRESS (used by JavaScripts developers)"
   ]
  },
  {
   "cell_type": "markdown",
   "metadata": {},
   "source": [
    "To setup the development environment: \n",
    "\n",
    "1- Update your python \n",
    "\n",
    "2- Make sure you istulled the pipenv \n",
    "\n",
    "3- Have code editor like VSCode"
   ]
  },
  {
   "cell_type": "markdown",
   "metadata": {},
   "source": [
    "### Create your first Django project:"
   ]
  },
  {
   "cell_type": "markdown",
   "metadata": {},
   "source": [
    "$mkdir storefront & cd storefront"
   ]
  },
  {
   "cell_type": "markdown",
   "metadata": {},
   "source": [
    "$ pipenv install django\n",
    "\n",
    "To activate:\n",
    "\n",
    "$ pipenv shell\n",
    "\n",
    "To deactivate:\n",
    "\n",
    "$ exit\n",
    "\n",
    "To start a new project:\n",
    "\n",
    "$ django-admin\n",
    "\n",
    "$ django-admin startproject storefront\n",
    "\n",
    "If you want to use the current derectory to create the django project:\n",
    "\n",
    "$ django-admin startproject storefront .\n",
    "\n",
    "To run the project:\n",
    "\n",
    "$ django-admin runserver\n",
    "\n",
    "The convinient way of running the project is:\n",
    "\n",
    "$ python manage.py \n",
    "\n",
    "$ python manage.py runsrver [local prot like 8000 or 9000]"
   ]
  },
  {
   "cell_type": "markdown",
   "metadata": {},
   "source": [
    "#### To use the integrated terminal in VSCode:\n",
    "In the command plattue (ctrl + Shift + p), search \"python interpreater\" and select the \"enter interprater path\". We need to address the path of the python interprater inside our virtual environment. To find the related path:\n",
    "\n",
    "$ pip --venv\n",
    "\n",
    "Select and copy the path and paste in the \"enter interprater path\" and append \\Scripts\\python.exe\n",
    "something like:\n",
    "\"C:\\Users\\Elham\\.virtualenvs\\storeonline-zd3b2xDA\\Scripts\\python.exe\"\n",
    "\n",
    "Then open a new integrated terminal and run your Django project inside the integrated terminal."
   ]
  },
  {
   "cell_type": "markdown",
   "metadata": {},
   "source": [
    "#### Creating your first App"
   ]
  },
  {
   "cell_type": "markdown",
   "metadata": {},
   "source": [
    "Every Django project is a collection of various apps with different functionality."
   ]
  },
  {
   "cell_type": "markdown",
   "metadata": {},
   "source": [
    "Shortcuts: ctrl+b shows (collapses) the project folders and files.\n",
    "Shortcut\" ctrl+l clears the termincal window."
   ]
  },
  {
   "cell_type": "markdown",
   "metadata": {},
   "source": [
    "Every Django project, by default, has some installed apps that are listed in the 'settings.py'. These apps are:\n",
    "- Admin app: gives admin interface for managing data\n",
    "- Auth app: for authenticating users\n",
    "- Content types app\n",
    "- Sessions app: which is kind of legecy. Asession is a temporary memory on the server for managing the users data. No need usually these days. You can delete this app.\n",
    "- Messages app: is used to display one time notification to the user.\n",
    "- Staticfile app: to serve the static files, like images, CSS files, and so on."
   ]
  },
  {
   "cell_type": "markdown",
   "metadata": {},
   "source": [
    "#### To creat a new app:\n",
    "\n",
    "$ python manage.py startapp [app's name]\n",
    "\n",
    "$ python manage.py startapp playground"
   ]
  },
  {
   "cell_type": "markdown",
   "metadata": {},
   "source": [
    "Then, in the explorer panel, you see you app folder with some special files and structure in it:\n",
    "- Migration folder for generating database tables.\n",
    "- admin.py, Admin module, where we define how the admin interface for this app is going to look like.\n",
    "- app.py : for configuring the app\n",
    "- models.py: where we define the model classes for this app. We use model classes to pull out data from the database and present to the user.\n",
    "- test.py: where we write our unit tests.\n",
    "- view.py: what we have here is essentially a request handler\n",
    "##### Each time you create an app you should add it in the list of installed Apps in the 'settings.py' file."
   ]
  },
  {
   "cell_type": "markdown",
   "metadata": {},
   "source": [
    "#### Writing view:\n",
    "Http is a request response protocol. So, every data exchange involves a request and response. This is where we use view.py in Django and define our view function. \n",
    "\n",
    "A view function is a function that takes a request and returns a response. More accurately, it is a request handler. In some frameworks, called \"action\". In Django, it is called a \"view\".\n",
    "\n",
    "An example of defining view function:"
   ]
  },
  {
   "cell_type": "code",
   "execution_count": 1,
   "metadata": {},
   "outputs": [],
   "source": [
    "import os, sys\n",
    "import django"
   ]
  },
  {
   "cell_type": "code",
   "execution_count": 1,
   "metadata": {},
   "outputs": [],
   "source": [
    "from django.http import HttpResponse\n",
    "\n",
    "def say_hello(request):\n",
    "    # In real cenario, you can pull data from db, transform, \n",
    "    # send email in this function\n",
    "    return HttpResponse('Hello World')"
   ]
  },
  {
   "cell_type": "markdown",
   "metadata": {},
   "source": [
    "Now we need to map this view to a URL. So, when you get a request at that URL, this function will be called."
   ]
  },
  {
   "cell_type": "markdown",
   "metadata": {},
   "source": [
    "#### Mapping URLs to views:\n",
    "To do so, make a file called, urls.py (or what ever you want), in the the project's folder (playground folder). In this module, we are going to map our URLs to our view functions.\n",
    "\n",
    "In the urls.py:"
   ]
  },
  {
   "cell_type": "code",
   "execution_count": 9,
   "metadata": {},
   "outputs": [],
   "source": [
    "from django.urls import path\n",
    "# from the current folder, we import view module. \n",
    "# So, we can reference our view functions.\n",
    "from . import view "
   ]
  },
  {
   "cell_type": "markdown",
   "metadata": {},
   "source": [
    "Nov we should define a special variable called, urlpatterns and set it to an array of URL pattern objects. We use the path function to create a URL pattern object."
   ]
  },
  {
   "cell_type": "code",
   "execution_count": null,
   "metadata": {},
   "outputs": [],
   "source": [
    "# URLConf\n",
    "urlpatterns = [\n",
    "    \n",
    "    path('playground/hello/', views.say_hello)\n",
    "]"
   ]
  },
  {
   "cell_type": "markdown",
   "metadata": {},
   "source": [
    "So, every app can have its own URL configuration.\n",
    "\n",
    "But, now we need to import this URL configuration into the main URL configuration for this project in the main folder (storeonline folder). To do so, as mentioned in docstrings (read  Including another URLConf)"
   ]
  },
  {
   "cell_type": "code",
   "execution_count": 12,
   "metadata": {},
   "outputs": [],
   "source": [
    "# First we need to import the include function\n",
    "from django import include"
   ]
  },
  {
   "cell_type": "markdown",
   "metadata": {},
   "source": [
    "Then add a URL to urlpatterns in this module (in the main folder):"
   ]
  },
  {
   "cell_type": "code",
   "execution_count": null,
   "metadata": {},
   "outputs": [],
   "source": [
    "urlpatterns = [\n",
    "    ...\n",
    "    path('playground/',include('playground.urls'))\n",
    "]"
   ]
  },
  {
   "cell_type": "markdown",
   "metadata": {},
   "source": [
    "By the above configuration, no the urlpatterns variable in the playground needs to be edited like the followngs:"
   ]
  },
  {
   "cell_type": "code",
   "execution_count": null,
   "metadata": {},
   "outputs": [],
   "source": [
    "# URLConf\n",
    "urlpatterns = [\n",
    "    \n",
    "    path('/hello/', views.say_hello)\n",
    "]"
   ]
  },
  {
   "cell_type": "markdown",
   "metadata": {},
   "source": [
    "So, when ever we change the codes, Django web sever automatically restart itself."
   ]
  },
  {
   "cell_type": "markdown",
   "metadata": {},
   "source": [
    "### Using Templates:\n",
    "To use template to return html content to the client:\n",
    "\n",
    "In the playground app, add a folder named, 'templates' and in this folder create a file called 'hello.html'\n",
    "\n",
    "In the hello.html (write a h1 and click tab):"
   ]
  },
  {
   "cell_type": "markdown",
   "metadata": {},
   "source": [
    "<h4> Hello Worlds </h4>"
   ]
  },
  {
   "cell_type": "markdown",
   "metadata": {},
   "source": [
    "Now back to the views.py and instead or returning the HttpResponse, we are going to use the render function to render a template an return HTML markup to the client. To do so, edit the say_hello function as follows:"
   ]
  },
  {
   "cell_type": "code",
   "execution_count": null,
   "metadata": {},
   "outputs": [],
   "source": [
    "from django.shortcuts import render\n",
    "\n",
    "def say_hello(request):\n",
    "    return render(request, 'hello.html')"
   ]
  },
  {
   "cell_type": "markdown",
   "metadata": {},
   "source": [
    "In the hello.html, you can render dynamic variables. To do so, in the view.py:"
   ]
  },
  {
   "cell_type": "code",
   "execution_count": null,
   "metadata": {},
   "outputs": [],
   "source": [
    "from django.shortcuts import render\n",
    "\n",
    "def say_hello(request):\n",
    "    return render(request, 'hello.html', {'name':'Reza'})"
   ]
  },
  {
   "cell_type": "markdown",
   "metadata": {},
   "source": [
    "and edit your hello.html:"
   ]
  },
  {
   "cell_type": "code",
   "execution_count": null,
   "metadata": {},
   "outputs": [],
   "source": [
    "<h1> Hello {{name}} </h1>"
   ]
  },
  {
   "cell_type": "markdown",
   "metadata": {},
   "source": [
    "Also you can write some logic:"
   ]
  },
  {
   "cell_type": "code",
   "execution_count": null,
   "metadata": {},
   "outputs": [],
   "source": [
    "{% if name%}\n",
    "<h1> Hello {{name}} </h1>\n",
    "{%else%}\n",
    "<h1> Hello world </h1>\n",
    "{% endif %}"
   ]
  },
  {
   "cell_type": "markdown",
   "metadata": {},
   "source": [
    "These days, we offtenly do not use the templates in Django projects. For the most part, we use Django to build APIs that return data, not html content."
   ]
  },
  {
   "cell_type": "markdown",
   "metadata": {},
   "source": [
    "### debugging Django applications in VSCode:\n",
    "If you want run your app line by line and see where the bug is, click on the \"run and debug\" in explorer panel of VSCode. Then click \"create a launch.json file\" icon and select Django. In the launch.json file, add \"9000\" under the \"runserver\" in the \"args\" of configuraions list if your server is running on the 8000 port. Then, you put a break point in a specific like and go to the \"run abd debug\" panel\" and click start. F10 to go step forwar nd F11 go into functions and classes."
   ]
  },
  {
   "cell_type": "markdown",
   "metadata": {},
   "source": [
    "### Using Django debug toolbar:\n",
    " First, search \"Django debug toolbar\" in google and find the related website. Then, follow the instruction for installing the tool. Please note that your html codes should an standard html coding with html and body"
   ]
  },
  {
   "cell_type": "markdown",
   "metadata": {},
   "source": [
    "## <font style=\"color:blue;\">2- Building a data Model</font>"
   ]
  },
  {
   "cell_type": "markdown",
   "metadata": {},
   "source": [
    "Models are used to store and retrieve data"
   ]
  },
  {
   "cell_type": "markdown",
   "metadata": {},
   "source": [
    "#### introduction to data modelling:"
   ]
  },
  {
   "cell_type": "markdown",
   "metadata": {},
   "source": [
    "What entities or concpets do we have in an eCommerce application? For starters, we need the concept of the product with attributes like title, description, price, inventory that in a real cenario, a product entity maight have other attributes. It depends on the requirements of our application.\n",
    "\n",
    "Quite offten, our products are devided in different categories, like shoes, beaty products, fruits, and so on. So, we need another entity called collection or category with an attribute called title. Now, we need to add a relationship or an association between these entities. So, we can start from one end and navigate to the other end. For example, we can get a collection and find all the products in that collection.\n",
    "\n",
    "Now, lets assume that in our application a produce blonges to just one collection and collection can have multiple products. So, we have \"one-to-many\" relationship between collection and product. Other relations are one-to-one and many-to-many. In the collection, you have an attribute called featured-attribute (one-to-zero). Every entity has an attribue that is automatically created by Django."
   ]
  },
  {
   "cell_type": "markdown",
   "metadata": {},
   "source": [
    "In every e-commerce application, we have a concept of shopping cart. So, we have an entity or a model or a class called cart with an attribute called \"created_at\". Let's assume that we need to know when each cart is created. So, every now we can do a cleanup and remove carts that are 30 days off.\n",
    "\n",
    "There is a relation or association between products and carts. Because a cart can have multiple products and a product might be in different carts. So, here we have \"many-to-many\" relationship. Sometimes a relationship between two entities can have attributes. For example, if a product is in a shopping cart, we need to know have many instances of that product we have in the shopping cart. so, this relationship itself should have an attribute called quantity (and a entity called CartItem).\n",
    "\n",
    "The next concept or entity is customer. It can have attributes like name, email, username, password, and so on. A customer can have many orders and each order belong to one customer. In this case there is one-to-many relationship between customers and orders. The order entity mighy have multiple attributes like placed_at (when), etc.. An order can contain multiple products and a product can be in multiple orders.So, there is many-to-many relationship between orders and products. Similar to the shopping cart example, this relationship itself needs an attribute called quantity (the entity called OrderItem). Another entity is tag. We have many-to-many rlationship between products and tags, because a tag can be referenced by different produts and vice versa."
   ]
  },
  {
   "cell_type": "markdown",
   "metadata": {},
   "source": [
    "A Django project contains several apps and each app has its own data model. So, there are different apps to organize our entities in different apps. \n",
    "\n",
    "One way is to have a single app called store and drop all our entites (Products, Collection, Cart, CartItam, Order, OrderItem, Customer, etc.) there. Then we can bundle an distribute this app by a pip. So, any one can install this app in their project and get all these models and functionalities around them. So, for the next appications, we do not need to rewrite the same functionality over and over. But there is a problem here. As this app grows and gets more and more complex, it gets bloated with to many things, like too many models, too many views and so on. This is what we call Monolith, like a large, heavy peice of stone. So, our app become hard to understand, maintain, and reuse.\n",
    "\n",
    "another solution is to break down this project into four smal apps:\n",
    "- The products app which represents a product catalog with three entities ( product, collection, and tag)\n",
    "- The customer app for managing the customes.\n",
    "- The shopping cart app for adding the shopping cart functionalities (Cart, CartItem, ...)\n",
    "- The order app for adding the ordering functionalities (Order, OrderItem,...)\n",
    "BUt, this is a poor way of breaking down a solution. First look at the dependencies of these app. For example the orders app dependent on the shopping cart app which is dependent on the product app. So, for the next ecomerce project, we need to install each of these app one by one (pipenv install products, carts, ...). Another problem is that if you update one of the app you maight be encountered with version confliction and causes the breaking the entire project. \n",
    "\n",
    "The midleware position is to separate the tag app and put other apps into a single App. So, here we have a tag app with entities like Tags and TagItem (that can be a product, video, etc.. The main app contains these entities: Products, Collection, Customer, Cart, CartItem, Order, and OrderItem. In this case, no coupling or dependency is between to apps."
   ]
  },
  {
   "cell_type": "markdown",
   "metadata": {},
   "source": [
    "So, back to VSCode and create to new apps: Store and tags:\n",
    "\n",
    "$ python manage.py startapp store\n",
    "\n",
    "$ python manage.py startapp tags\n",
    "\n",
    "Next step is to add them into the installed app list in the setting.py"
   ]
  },
  {
   "cell_type": "markdown",
   "metadata": {},
   "source": [
    "### Creat Model Classes:\n"
   ]
  },
  {
   "cell_type": "markdown",
   "metadata": {},
   "source": [
    "To create our frist model class like \"Product class\", \"Customer class\", ect., in the store app, open the \"model.py\".\n",
    "On top of this module, we have:\n",
    "\n",
    "$ from django.db import models\n",
    "\n",
    "The module \"models\" have a bunch of usefull classes that are used in defining model classes. In the followings you see two model classes for products and customers:"
   ]
  },
  {
   "cell_type": "code",
   "execution_count": null,
   "metadata": {},
   "outputs": [],
   "source": [
    "class Product(models.Model):\n",
    "    # To create your primery key\n",
    "    # sku = models.CharField(max_length=10, primary_key=True)\n",
    "    title = models.CharField(max_length=225)\n",
    "    description = models.TextField()\n",
    "    price = models.DecimalField(max_digits=10, decimal_places=0)\n",
    "    inventory = models.IntegerField()\n",
    "    last_update = models.DateTimeField(auto_now=True)\n",
    "\n",
    "\n",
    "class Customer(models.Model):\n",
    "    first_name = models.CharField(max_length=225)\n",
    "    last_name = models.CharField(max_length=225)\n",
    "    email = models.EmailField(unique=True)\n",
    "    phone = models.CharField(max_length=225)\n",
    "    birth_date = models.DateField(null=True)"
   ]
  },
  {
   "cell_type": "markdown",
   "metadata": {},
   "source": [
    "By googling \"django field types\", you can find \"Model field references\" where in the right side of the page, you will find all the built-in \"field types\" like \"Boolan fields\" for storing boolean types, \"CharFields\" for storing a sequence of char fields, and so on."
   ]
  },
  {
   "cell_type": "markdown",
   "metadata": {},
   "source": [
    "Somtimes we need to limit the list of values that we stored in a field. For example in the customer class, let's define a new field called \"membership\". Now, let's assume that this field, we can have one of the values \"B\" for \"Bronze\", \"S\" for \"Silver\", and \"G\" for \"Gold\" membership. To do this, go back to our documentation where all field types are shared options mentioned in the document. One of this options is \"Choices\":"
   ]
  },
  {
   "cell_type": "code",
   "execution_count": null,
   "metadata": {},
   "outputs": [],
   "source": [
    "class Customer(models.Model):\n",
    "    MEMBERSHIP_BRONZE = 'B'\n",
    "    MEMBERSHIP_SILVER = 'S'\n",
    "    MEMBERSHIP_GOLD = 'G'\n",
    "    \n",
    "    MEMBERSHIP_CHOICES = [\n",
    "        (MEMBERSHIP_BRONZE, 'Bronze'),\n",
    "        (MEMBERSHIP_SILVER, 'SILVER'),\n",
    "        (MEMBERSHIP_GOLD, 'GOLD'),\n",
    "    ]\n",
    "    first_name = models.CharField(max_length=225)\n",
    "    last_name = models.CharField(max_length=225)\n",
    "    email = models.EmailField(unique=True)\n",
    "    phone = models.CharField(max_length=225)\n",
    "    birth_date = models.DateField(null=True)\n",
    "    \n",
    "    membership = models.CharField(\n",
    "        max_length=1, choices=MEMBERSHIP_CHOICES, default=MEMBERSHIP_BRONZE)"
   ]
  },
  {
   "cell_type": "markdown",
   "metadata": {},
   "source": [
    "To create the order class:"
   ]
  },
  {
   "cell_type": "code",
   "execution_count": null,
   "metadata": {},
   "outputs": [],
   "source": [
    "class Order(models.Model):\n",
    "    PENDING_STATUS = 'P'\n",
    "    COMPLETE_STATUS = 'C'\n",
    "    FAILD_STATUS = 'F'\n",
    "\n",
    "    PAYMENT_STATUS = [\n",
    "        (PENDING_STATUS, 'Pending'),\n",
    "        (COMPLETE_STATUS, 'Complete'),\n",
    "        (FAILD_STATUS, 'Failed'),\n",
    "    ]\n",
    "    placed_at = models.DateTimeField(auto_now_add=True)\n",
    "    paymant_status = models.CharField(\n",
    "        max_length=1, choices=PAYMENT_STATUS, default=PENDING_STATUS)"
   ]
  },
  {
   "cell_type": "markdown",
   "metadata": {},
   "source": [
    "#### Defining one-to-one relationship:"
   ]
  },
  {
   "cell_type": "markdown",
   "metadata": {},
   "source": [
    "After creating your model classes, you need to emplement a relationship between two models.\n",
    "For example, you have a new class called \"Address\" and each customer should have one and only one address (one to one relationship):"
   ]
  },
  {
   "cell_type": "code",
   "execution_count": null,
   "metadata": {},
   "outputs": [],
   "source": [
    "class Address(models.Model):\n",
    "    street = models.CharField(max_length=255)\n",
    "    city = models.CharField(max_length=255)\n",
    "    customer = models.OneToOneField(\n",
    "        Customer, on_delete=models.CASCADE, primary_key=True)"
   ]
  },
  {
   "cell_type": "markdown",
   "metadata": {},
   "source": [
    "As you database relationship has two ends, a \"parent\" and a \"child\" ends. Please note that the parent end or class should be defined before the child class. So, the \"customer\" class sould be created before the \"child\" class. Then, in the child class you should specify the parent class."
   ]
  },
  {
   "cell_type": "markdown",
   "metadata": {},
   "source": [
    "The options of the \"on_delete\" argument in the OneToOneField class of models modules: - models.CASCADE (when you delete a customer, the associated address automatically will also be deleted), - models.SET_NULL (After deleting the partent info the chiled not ganna get deleted by it will be set to NULL), - models.SET_DEFAULT (it will be set to the default value), models.PROTECT (frist you have to delete the child information and then you can delete the information of the partent)."
   ]
  },
  {
   "cell_type": "markdown",
   "metadata": {},
   "source": [
    "\"primary_key=True\" in the argument of the OneToOneField, you can have only one customer for each addresses, since the primary key does not allow duplicate values."
   ]
  },
  {
   "cell_type": "markdown",
   "metadata": {},
   "source": [
    "#### Defining many-to-many relationship"
   ]
  },
  {
   "cell_type": "markdown",
   "metadata": {},
   "source": [
    "#### Generic relationship"
   ]
  },
  {
   "cell_type": "markdown",
   "metadata": {},
   "source": [
    "Create a new app called 'likes':\n",
    "\n",
    "$ python manage.py startapp likes\n",
    "\n",
    "Then create a generic model class called LikedItem:"
   ]
  },
  {
   "cell_type": "code",
   "execution_count": null,
   "metadata": {},
   "outputs": [],
   "source": [
    "from django.contrib.contenttypes.models import ContentType\n",
    "from django.contrib.contenttypes.fields import GenericForeignKey\n",
    "from django.contrib.auth.models import User\n",
    "\n",
    "\n",
    "class LikedItem(models.Model):\n",
    "    user = models.ForeignKey(User, on_delete=models.CASCADE)\n",
    "    content_type = models.ForeignKey(ContentType, on_delete=models.CASCADE)\n",
    "    object_id = models.PositiveIntegerField()\n",
    "    content_object = GenericForeignKey()"
   ]
  },
  {
   "cell_type": "markdown",
   "metadata": {},
   "source": [
    "## <font style=\"color:blue;\">3- Setting up the database</font>"
   ]
  },
  {
   "cell_type": "markdown",
   "metadata": {},
   "source": [
    "Django supports many database managment systems. The most basic one that is set up by default is 'SQLite' that is a basic lightweight database engine. You should use it in low traffic website. For any serious project, you should use 'PostgreSQL', 'MySQL', 'MariaDB', 'Oracle' that are officially supported by Django. We will just focus on 'SQLite', and 'MySQL'."
   ]
  },
  {
   "cell_type": "markdown",
   "metadata": {},
   "source": [
    "#### Creating migrations"
   ]
  },
  {
   "cell_type": "markdown",
   "metadata": {},
   "source": [
    "In Django, we use migrations to create or update or databse tables.\n",
    "In the therminal window:\n",
    "\n",
    "$ python manage.py makemigrations\n",
    "\n",
    "Then, Django will create a migration file for each app. By click <h4>\"ctrl + click\"</h4> to open each migration file from terminal."
   ]
  },
  {
   "cell_type": "markdown",
   "metadata": {},
   "source": [
    "If you want to quickly jump to for example product class <h4>\"ctrl + T\"</h4> to go to symbol in workspace and open the product class. Another example press Ctrl+T and write \"installed_apps\" to open the setting.py and show the list of installed apps"
   ]
  },
  {
   "cell_type": "markdown",
   "metadata": {},
   "source": [
    "Use <h4>F2</h4>\n",
    "to rename a variable or class name"
   ]
  },
  {
   "cell_type": "markdown",
   "metadata": {},
   "source": [
    "Now, as an example, let's add a new field called \"slug\" in the product class:\n",
    "\n",
    "slug contains letters, numbers, hyphen, and underscore to make it easier for search engines to find our searches. So, it is a search engine optimization technique."
   ]
  },
  {
   "cell_type": "code",
   "execution_count": null,
   "metadata": {},
   "outputs": [],
   "source": [
    "class Product(models.Model):\n",
    "    .\n",
    "    .\n",
    "    # one option is using \"default='-'\" and another option is \"null=True\"\n",
    "    slug = models.SlugField(default='-')"
   ]
  },
  {
   "cell_type": "markdown",
   "metadata": {},
   "source": [
    "#### Running migrations"
   ]
  },
  {
   "cell_type": "markdown",
   "metadata": {},
   "source": [
    "By running migrations, Djange generates our sqlite databse schema. To do so:"
   ]
  },
  {
   "cell_type": "markdown",
   "metadata": {},
   "source": [
    "$ python manage.py migrate"
   ]
  },
  {
   "cell_type": "markdown",
   "metadata": {},
   "source": [
    "To open sqlite, install an extension called \"sqlite\" or install \"DB browser for sqlite\""
   ]
  },
  {
   "cell_type": "markdown",
   "metadata": {},
   "source": [
    "From the top, in view menu and open the command pallette. <h4>shift+ctrl+P</h4> is its shourcut. Then, search for \"sqlite open database\". In the explorer pannel in VSCode, you see all sqlite databases."
   ]
  },
  {
   "cell_type": "markdown",
   "metadata": {},
   "source": [
    "Another command is (for example for store app 0003:\n",
    "\n",
    "$ python manage.py sqlmigrate [sepcific app] [seqence number of its migrations]\n",
    "\n",
    "$ python manage.py sqlmigrate store 0003\n",
    "\n",
    "show the actual sql statement Django sends to our database."
   ]
  },
  {
   "cell_type": "markdown",
   "metadata": {},
   "source": [
    "#### Customizing Database Schema"
   ]
  },
  {
   "cell_type": "markdown",
   "metadata": {},
   "source": [
    "Sometime you need more control over databse schema. For example, we wanna override a name of a table or you wanna add an index to couple of columns and so on. To do so, let's open 'Customer' class using \"ctrl + T\". In this class, we want to define a inner class for metadata:"
   ]
  },
  {
   "cell_type": "markdown",
   "metadata": {},
   "source": [
    "class Customer(models.Model):\n",
    "    .\n",
    "    .\n",
    "    class Meta:\n",
    "        # to find the options for Meta class, google django model metadata\n",
    "        # and open the first link. Then, you see all the options in the right side.\n",
    "        db_table = 'store_custoemrs'\n",
    "        # We use indexes to speedup the queries.\n",
    "        indexes = [\n",
    "            models.Index(fields=['last_name','first_name'])\n",
    "        ]"
   ]
  },
  {
   "cell_type": "markdown",
   "metadata": {},
   "source": [
    "Then, create and run the migration\n",
    "\n",
    "$ python manage.py makemigration\n",
    "\n",
    "$ python manage.py migrate"
   ]
  },
  {
   "cell_type": "markdown",
   "metadata": {},
   "source": [
    "#### Reverting (undo) migrations"
   ]
  },
  {
   "cell_type": "markdown",
   "metadata": {},
   "source": [
    "There are a couple of ways to undo the previous migrations we applied.\n",
    "\n",
    "1- If we want to selectively undo what we did in previous try, for example you wanna edit the \"class Meta\", do your changes and make a new migration.\n",
    "\n",
    "2- If you want to undo everything you did in your previous try, you can completely revert the last migration. So, look at the migrations in store app, th last sequence number (here 0005) should be revert to (0004). So, open up a terminal window and type:"
   ]
  },
  {
   "cell_type": "markdown",
   "metadata": {},
   "source": [
    "$ python manage.py migrate store 0004"
   ]
  },
  {
   "cell_type": "markdown",
   "metadata": {},
   "source": [
    "Now, to verify, check the customer table in SQLITE EXPLORER and see the changes. Also, look the migration table and see the last migration has been gone.\n",
    "\n",
    "But, the changes are still in the code! Go to the migration folder in the store app and see the last migration is still there. Do, if you run the migrate:\n",
    "\n",
    "$ python manage.py migrate\n",
    "\n",
    "the last migration will be back. To revert it properly, we should delete the last migration as well as all manually delete the changes we made in the code. Another way is to use a version control system like 'Git':"
   ]
  },
  {
   "cell_type": "markdown",
   "metadata": {},
   "source": [
    "$ git log --oneline\n",
    "\n",
    "$ git reset --hard HEAD~1"
   ]
  },
  {
   "cell_type": "markdown",
   "metadata": {},
   "source": [
    "#### Installing MySQL & Connecting to MySQL"
   ]
  },
  {
   "cell_type": "markdown",
   "metadata": {},
   "source": [
    "#### Installing DataGrip and connecting to MySQL"
   ]
  },
  {
   "cell_type": "markdown",
   "metadata": {},
   "source": [
    "Open DataGrip (or MySQL workbench) and click new project. In a new query console type:\n",
    "\n",
    "> CREATE DATABASE storefront\n",
    "\n",
    "execute the query to create the databse."
   ]
  },
  {
   "cell_type": "markdown",
   "metadata": {},
   "source": [
    "#### Using MySQL in Django"
   ]
  },
  {
   "cell_type": "markdown",
   "metadata": {},
   "source": [
    "The next step is to connect Django to MySQL. To do that, we need to install a package called \"mysqlclient\":\n",
    "\n",
    "$ pipenv install mysqlclient\n",
    "\n",
    "Before that, check your installation your mysql.To do so, open a new terminal window (we are ganna connect mysql using root user and a password):\n",
    "\n",
    "$ mysql -u root -p\n",
    "\n",
    "Then enter your password. If you got an error indicating mysql command not found, it maybe because MySQL is not installed properly or MySQL is not in your PATH."
   ]
  },
  {
   "cell_type": "markdown",
   "metadata": {},
   "source": [
    "The next step is to change our databse settings. Go to the setting module. Use\n",
    "\n",
    "<h4>shift+ctrl+O</h4>\n",
    "or use \"Go menu\">\"got to symbol editors\" and type \"databses\" to jump to database settings. It shows the default databse engine that is 'sqlite3' and it name. So, edit it like this:"
   ]
  },
  {
   "cell_type": "code",
   "execution_count": null,
   "metadata": {},
   "outputs": [],
   "source": [
    "DATABASES = {\n",
    "    'default':{\n",
    "        'ENGINE':'django.db.backends.mysql',\n",
    "        'NAME':'storefront',\n",
    "        'HOST':'localhost',\n",
    "        'USER':'root',\n",
    "        'PASSWORD':'your MySQL password'\n",
    "    }\n",
    "}"
   ]
  },
  {
   "cell_type": "markdown",
   "metadata": {},
   "source": [
    "Now back to terminal window and run the server, you should notget any error at this time. Then, run the migrate:"
   ]
  },
  {
   "cell_type": "markdown",
   "metadata": {},
   "source": [
    "$ python manage.py migrate\n",
    "\n",
    "Go to the DataGrip (MySQL workbench) and do a refresh to see yout storefront database."
   ]
  },
  {
   "cell_type": "markdown",
   "metadata": {},
   "source": [
    "#### Running a custom SQL"
   ]
  },
  {
   "cell_type": "markdown",
   "metadata": {},
   "source": [
    "Sometimes we need a full cotrol over generating or updataing our database schema. All we have to do is creating an empty Django migration and there we can write any arbitrary SQL code. To do so, in the terminal (create an empty migration in the store app):\n",
    "\n",
    "$ python manage.py makemigrations store --empty"
   ]
  },
  {
   "cell_type": "code",
   "execution_count": null,
   "metadata": {},
   "outputs": [],
   "source": [
    "Open the empty migration and add the followings in the 'operation list':\n",
    "\n",
    "operations = [\n",
    "        #RunSQL is a class that is defined in the migration module,\n",
    "        #the first argument is constructor for upgrading database \n",
    "        #and the second is for downgrading the database. \n",
    "        # If you do not set the second option you won't be able to revert it.\n",
    "        migrations.RunSQL(\"\"\"\n",
    "            INSERT INTO store_collection(title)\n",
    "            VALUE ('collection1')\n",
    "        \"\"\",\"\"\"\n",
    "            DELETE FROM store_collection\n",
    "            WHERE title = 'collection1'\n",
    "        \"\"\")\n",
    "    ]"
   ]
  },
  {
   "cell_type": "markdown",
   "metadata": {},
   "source": [
    "Back into the terminal and run a migrate:\n",
    "\n",
    "$ python manage.py migrate\n",
    "\n",
    "To unapply the last migration:\n",
    "\n",
    "$ python manage.py migrate store 0004"
   ]
  },
  {
   "cell_type": "markdown",
   "metadata": {},
   "source": [
    "#### Generating Dummy Data"
   ]
  },
  {
   "cell_type": "markdown",
   "metadata": {},
   "source": [
    "To populating our database with some dummy data, use the following website:\n",
    "\n",
    "www.mockaroo.com\n",
    "\n",
    "Then, drag and drop or import the generated and downloaded data to DataGrip"
   ]
  },
  {
   "cell_type": "markdown",
   "metadata": {},
   "source": [
    "## <font style=\"color:blue;\">4- Django ORM (Object relational mapper)</font>"
   ]
  },
  {
   "cell_type": "markdown",
   "metadata": {},
   "source": [
    "In relational databases, we store data as rows in tables. When you put data in a relational database, you map these rows into objects. In past, you had to do it manually. So, you had to write SQL codes:"
   ]
  },
  {
   "cell_type": "code",
   "execution_count": null,
   "metadata": {},
   "outputs": [],
   "source": [
    "sql = 'SELECT * FROM product'\n",
    "result = execute(sql)\n",
    "for row in result:\n",
    "    product = Product()\n",
    "    product.title = row['title']\n",
    "    product.price = row['price']\n",
    "    ..."
   ]
  },
  {
   "cell_type": "markdown",
   "metadata": {},
   "source": [
    "Here ORM comes to help. Object-relational mapper mapes objects to relational records and frees us from repeating codes. You can code in an object-oriented programming language like python. The ORM then translate our python codes into SQL codes at the run tume. "
   ]
  },
  {
   "cell_type": "markdown",
   "metadata": {},
   "source": [
    "#### Reseting the Database"
   ]
  },
  {
   "cell_type": "markdown",
   "metadata": {},
   "source": [
    "Create virtual env\n",
    "\n",
    "$ pipenv install\n",
    "\n",
    "Then, in DataGrip (SQL workbench), click right on the localhost>new>query console and type:\n",
    "\n",
    ">CREATE DATABASE storefront\n",
    "\n",
    "In the terminal:\n",
    "\n",
    "$ pipenv shell\n",
    "\n",
    "The next step is to run all our migrtions to create our tables:\n",
    "\n",
    "$ python manage.py migrate\n",
    "\n",
    "The next is populating our database tables with data. To do so, in DataGrip, right click on the storefront database and open a new query console and drag and drop your data to it. On the top of the DataGrip, select the schema to storefront and select all data (ctrl+A) and execute them. The final step is to start our server:\n",
    "\n",
    "$ python manage.py runserver"
   ]
  },
  {
   "cell_type": "markdown",
   "metadata": {},
   "source": [
    "#### Managers and query sets"
   ]
  },
  {
   "cell_type": "markdown",
   "metadata": {},
   "source": [
    "The first thing about the Django ORM is the concept of managers and query sets. To undrstand this concept, as an example, open say_hello() function in playground>view.py and write some pieces of codes there. Now, from store module, import the Product class on top of th view.py:\n",
    "\n",
    "> from store.models import Product "
   ]
  },
  {
   "cell_type": "markdown",
   "metadata": {},
   "source": [
    "Every model in Django has an attribute called \"objects\" and this returns a manager object that you can talk to your database though it. Here we have bunch of methods for querying or updating data, for example a method called \"all()\" used to pull all the objects in the products table. Also, we have \"get()\" for getting a single object, \"filter()\" for filtering data and so on.\n",
    "\n",
    "Most of these methods returns a query set. So, when we call this method, we do not get a list of product. Instead, we get a query set object. A query set is an object that encapsulate a query. So, when will this happen? On senario is when we iterate over a query"
   ]
  },
  {
   "cell_type": "code",
   "execution_count": null,
   "metadata": {},
   "outputs": [],
   "source": [
    "def say_hello(request):\n",
    "    query_set = Product.objects.all()\n",
    "    \n",
    "    for product in query_set:\n",
    "        print(product)\n",
    "        \n",
    "    return render(request, 'hello.html', {'name': 'Reza'})\n"
   ]
  },
  {
   "cell_type": "markdown",
   "metadata": {},
   "source": [
    "Then, open the \"hello page\" and open Django debug toolbar. Look at the SQL tab for check."
   ]
  },
  {
   "cell_type": "markdown",
   "metadata": {},
   "source": [
    "Another senario is when we convert the query set to a list. So, if we call a list function:"
   ]
  },
  {
   "cell_type": "code",
   "execution_count": null,
   "metadata": {},
   "outputs": [],
   "source": [
    "def say_hello(request):\n",
    "    query_set = Product.objects.all()\n",
    "    \n",
    "    list(query_set)\n",
    "    query_set[0:5]\n",
    "    query_set[0]\n",
    "        \n",
    "    return render(request, 'hello.html', {'name': 'Reza'})\n"
   ]
  },
  {
   "cell_type": "markdown",
   "metadata": {},
   "source": [
    "This query set will be avaluated. Another senrio is to access individual elements like \"query_set[0:5]\""
   ]
  },
  {
   "cell_type": "markdown",
   "metadata": {},
   "source": [
    "To do a complex query:"
   ]
  },
  {
   "cell_type": "code",
   "execution_count": null,
   "metadata": {},
   "outputs": [],
   "source": [
    "def say_hello(request):\n",
    "    query_set = Product.objects.all()\n",
    "    query_set = Product.objects.filter().filter().order_by()\n",
    "        \n",
    "    return render(request, 'hello.html', {'name': 'Reza'})"
   ]
  },
  {
   "cell_type": "markdown",
   "metadata": {},
   "source": [
    "#### Retriving objects"
   ]
  },
  {
   "cell_type": "markdown",
   "metadata": {},
   "source": [
    "There are different methods to retrieve objects. The first method is \"all()\" method and gives a query set. Sometimes we want to get a single object like the product with id=1. Then, we use the \"get()\" method and we pass a few parameters like \"get(id=1)\". Or \"get(pk=1)\" where Django automotically translate this to a name of primary key field. The primary key can be \"id\", \"code\", or what ever you want. The \"get()\" method returns an actual object not a query set. So, we can not sort, filter and so on with the results. Now, refresh the page and look at the SQL tab."
   ]
  },
  {
   "cell_type": "code",
   "execution_count": null,
   "metadata": {},
   "outputs": [],
   "source": [
    "def say_hello(request):\n",
    "    product = Product.objects.get(id=1)\n",
    "        \n",
    "    return render(request, 'hello.html', {'name': 'Reza'})"
   ]
  },
  {
   "cell_type": "markdown",
   "metadata": {},
   "source": [
    "Please note that if it can not find an object, it wil throw an EXPECTION. For example, if you set \"get(pk=0)\". So, we need to wrap our code inside a try-except block:"
   ]
  },
  {
   "cell_type": "code",
   "execution_count": null,
   "metadata": {},
   "outputs": [],
   "source": [
    "from django.core.exceptions import ObjectDoesNotExist\n",
    "\n",
    "def say_hello(request):\n",
    "    try:\n",
    "        product = Product.objects.get(pk=0)\n",
    "    except ObjectDoesNotExist\n",
    "        pass\n",
    "    return render(request, 'hello.html', {'name': 'Reza'})"
   ]
  },
  {
   "cell_type": "markdown",
   "metadata": {},
   "source": [
    "The more optimzed way is that use \"filter()\" method istead of \"get()\" method. This method returns a query set. Right away we can call the \"first()\" method. If the \"first()\" mthod is empty, it retuens \"None\". :"
   ]
  },
  {
   "cell_type": "code",
   "execution_count": null,
   "metadata": {},
   "outputs": [],
   "source": [
    "def say_hello(request):\n",
    "        product = Product.objects.filter(pk=0).first()\n",
    "    return render(request, 'hello.html', {'name': 'Reza'})"
   ]
  },
  {
   "cell_type": "markdown",
   "metadata": {},
   "source": [
    "Sometime, we need to check the existence of an object. So, instead of \"first()\" method, we use \"exists()\" method where it's type is a bollean value:"
   ]
  },
  {
   "cell_type": "code",
   "execution_count": null,
   "metadata": {},
   "outputs": [],
   "source": [
    "def say_hello(request):\n",
    "        # It's type i bollean value\n",
    "        exists = Product.objects.filter(pk=0).exists()\n",
    "    return render(request, 'hello.html', {'name': 'Reza'})"
   ]
  },
  {
   "cell_type": "markdown",
   "metadata": {},
   "source": [
    "#### Filtering objects:"
   ]
  },
  {
   "cell_type": "markdown",
   "metadata": {},
   "source": [
    "Let's talk about filtering data. For example we want to find all the products that are 20 dollars:"
   ]
  },
  {
   "cell_type": "code",
   "execution_count": null,
   "metadata": {},
   "outputs": [],
   "source": [
    "def say_hello(request):\n",
    "        queryset = Product.objects.filter(unit_price=20)\n",
    "    return render(request, 'hello.html', {'name': 'Reza', 'products':list(queryset)})"
   ]
  },
  {
   "cell_type": "markdown",
   "metadata": {},
   "source": [
    "Or to find all the products with prices greater than 20 dollars and so on. To find all the lookup types like __gt, __gte, __lt, and so on, you can search for \"queryset api\". Head over the first website and you will find the \"Field lookups\" on the right side."
   ]
  },
  {
   "cell_type": "code",
   "execution_count": null,
   "metadata": {},
   "outputs": [],
   "source": [
    "def say_hello(request):\n",
    "        queryset = Product.objects.filter(unit_price__gt=20)\n",
    "        queryset = Product.objects.filter(unit_price__gte=20)\n",
    "        queryset = Product.objects.filter(unit_price__lt=20)\n",
    "        queryset = Product.objects.filter(unit_price__lte=20)\n",
    "        queryset = Product.objects.filter(unit_price__range=(20,30))\n",
    "        \n",
    "        queryset = Product.objects.filter(collection_id = 1)\n",
    "        queryset = Product.objects.filter(collection_id__gt = 1)\n",
    "        queryset = Product.objects.filter(collection_id__range = (1,2,3))\n",
    "        \n",
    "        queryset = Product.objects.filter(title__contains = 'coffee')\n",
    "        queryset = Product.objects.filter(title__icontains = 'coffee')\n",
    "        queryset = Product.objects.filter(title__startswith = 'coffee')\n",
    "        queryset = Product.objects.filter(title__istartswith = 'coffee')\n",
    "        queryset = Product.objects.filter(title__endswith = 'coffee')\n",
    "        \n",
    "        # for dates:\n",
    "        queryset = Product.objects.filter(last_update__year=2021)\n",
    "        queryset = Product.objects.filter(last_update__month=...)\n",
    "        queryset = Product.objects.filter(last_update__date=...)\n",
    "        \n",
    "        # null description\n",
    "        queryset = Product.objects.filter(description__isnull=True)\n",
    "        \n",
    "        # orgumnts from other tables like product table and \n",
    "        # call collection_id for orderitem\n",
    "        queryset4 = OrderItem.objects.filter(product__collection_id=3)\n",
    "        \n",
    "    return render(request, 'hello.html', {'name': 'Reza', 'products':list(queryset)})"
   ]
  },
  {
   "cell_type": "markdown",
   "metadata": {},
   "source": [
    "Now, got to the \"hello.html\" and after if block we are going to render an unordered list which represents the results:"
   ]
  },
  {
   "cell_type": "code",
   "execution_count": null,
   "metadata": {},
   "outputs": [],
   "source": [
    "<html>\n",
    "    <body>\n",
    "        {%if name%}\n",
    "        <h1> <font color=\"red\"> Hello {{name}} </font> </h1>\n",
    "        {% else %}\n",
    "        <font color='blue'> TEST world </font>\n",
    "        {% endif %}\n",
    "        <ul>\n",
    "            {% for product in products %}\n",
    "            <li>{{ product.title }}</li>\n",
    "            <li>{{product.description}}</li>\n",
    "            {% endfor %}\n",
    "        </ul>\n",
    "    </body>\n",
    "</html>"
   ]
  },
  {
   "cell_type": "markdown",
   "metadata": {},
   "source": [
    "Do the pdf exercises!!!"
   ]
  },
  {
   "cell_type": "code",
   "execution_count": null,
   "metadata": {},
   "outputs": [],
   "source": [
    "<ul>\n",
    "            {% for cust in customer_info %}\n",
    "                <li>\n",
    "                    first name is:  {{ cust.first_name}}, The last name is: {{cust.last_name}}\n",
    "                </li>\n",
    "                <li>\n",
    "                    Email:  {{cust.email}}\n",
    "                </li>\n",
    "            {% endfor %}\n",
    "        </ul>"
   ]
  },
  {
   "cell_type": "markdown",
   "metadata": {},
   "source": [
    "#### Complex lookups using Q objects:"
   ]
  },
  {
   "cell_type": "markdown",
   "metadata": {},
   "source": [
    "How we can apply multiple filters. for example, the products that inventory<10 and price<20:"
   ]
  },
  {
   "cell_type": "code",
   "execution_count": null,
   "metadata": {},
   "outputs": [],
   "source": [
    "# product>inventory<10 and price<20    ### AND operator ###\n",
    "queryset = Product.objects.filter(inventory__ls=10, unit_price__lte=20)\n",
    "queryset = Product.objects.filter(inventory__ls=10).filter(unit_price__lte=20)\n",
    "queryset = Product.objects.filter(Q(inventory__ls=10) & Q(unit_price__lte=20))\n",
    "\n",
    "# product>inventory<10 and price<20    ### OR operator ###\n",
    "from django.db.models import Q\n",
    "\n",
    "queryset = Product.objects.filter(Q(inventory__ls=10) | Q(unit_price__lte=20))\n",
    "\n",
    "# for not operator ~\n",
    "queryset = Product.objects.filter(Q(inventory__ls=10) | ~Q(unit_price__lte=20))"
   ]
  },
  {
   "cell_type": "markdown",
   "metadata": {},
   "source": [
    "#### Referencing fields using F objects:"
   ]
  },
  {
   "cell_type": "markdown",
   "metadata": {},
   "source": [
    "Sometimes, when filtering data, we need to reference a particular field. Here we use F object that we can reference particular field. For example, we want to compare two fields like find all the products where \"inventory==unit_price\":"
   ]
  },
  {
   "cell_type": "code",
   "execution_count": null,
   "metadata": {},
   "outputs": [],
   "source": [
    "from django.db.models import Q, F\n",
    "# product: inventory = unit_price\n",
    "queryset = Product.objects.filter(inventory = F('unit_price'))"
   ]
  },
  {
   "cell_type": "markdown",
   "metadata": {},
   "source": [
    "We can also reference a filed to a related table using F objects. "
   ]
  },
  {
   "cell_type": "code",
   "execution_count": null,
   "metadata": {},
   "outputs": [],
   "source": [
    "# product: inventory = collection: id\n",
    "queryset = Product.objects.filter(inventory = F('collection__id'))"
   ]
  },
  {
   "cell_type": "markdown",
   "metadata": {},
   "source": [
    "#### Sorting data:"
   ]
  },
  {
   "cell_type": "code",
   "execution_count": null,
   "metadata": {},
   "outputs": [],
   "source": [
    "say_hello(request):\n",
    "\n",
    "    # Acending order\n",
    "    queryset = Product.objects.order_by('title')\n",
    "    # decending order\n",
    "    queryset = Product.objects.order_by('-title')\n",
    "    # combined\n",
    "    queryset = Product.objects.order_by('unit_price','-title')\n",
    "    # to reverse the procedure\n",
    "    queryset = Product.objects.order_by('unit_price','-title').reverse()\n",
    "    # combined filter and order\n",
    "    queryset = Product.objects.filter(collection__id=1).order_by('unit_price')\n",
    "    ----------\n",
    "    # to pick the first product after ordering\n",
    "    product = Product.objects.order_by('unit_price')[0]\n",
    "    product = Product.objects.earliest('unit_price')\n",
    "    # in decending order it reutrns the first object\n",
    "    product = Product.objects.latest('unit_price') \n",
    "    return render(request, 'hello.html', {'product':product})"
   ]
  },
  {
   "cell_type": "markdown",
   "metadata": {},
   "source": [
    "#### Limiting results:"
   ]
  },
  {
   "cell_type": "markdown",
   "metadata": {},
   "source": [
    "A product table has a thousand products. But, quite offen, we do not want to show all the list of products in one list. To limit the showed results:"
   ]
  },
  {
   "cell_type": "code",
   "execution_count": null,
   "metadata": {},
   "outputs": [],
   "source": [
    "product = Product.objects.all()[:5]\n",
    "product = Product.objects.all()[5:10] # 5,6,7,8,9 with an offset from 5"
   ]
  },
  {
   "cell_type": "markdown",
   "metadata": {},
   "source": [
    "#### Selecting fields to query:"
   ]
  },
  {
   "cell_type": "markdown",
   "metadata": {},
   "source": [
    "So, we have seen that when we query objects, by default, all of the fields are read from the database. But, if we only interested in subset of these fields. In thise case, we use \"values\" method and specify the fields we want to query:"
   ]
  },
  {
   "cell_type": "code",
   "execution_count": null,
   "metadata": {},
   "outputs": [],
   "source": [
    "product = Product.objects.values('id','title')\n",
    "# we can read the related fields like collection:title\n",
    "### Using double underscore notation, we can access the related field. \n",
    "#You can check with SQL query set in the running page.\n",
    "product = Product.objects.values('id','title', 'collection__title')"
   ]
  },
  {
   "cell_type": "markdown",
   "metadata": {},
   "source": [
    "WHen you use \"values\" method, the results are a dictionary. To convert them to tuple:"
   ]
  },
  {
   "cell_type": "code",
   "execution_count": null,
   "metadata": {},
   "outputs": [],
   "source": [
    "product = Product.objects.values_list('id','title', 'collection__title')"
   ]
  },
  {
   "cell_type": "markdown",
   "metadata": {},
   "source": [
    "#### Difering fields:"
   ]
  },
  {
   "cell_type": "markdown",
   "metadata": {},
   "source": [
    "Another method is \"only()\" that we can specifiy the fields we want to read from the database:"
   ]
  },
  {
   "cell_type": "code",
   "execution_count": null,
   "metadata": {},
   "outputs": [],
   "source": [
    "product = Product.objects.only('id','title', 'collection__title')"
   ]
  },
  {
   "cell_type": "markdown",
   "metadata": {},
   "source": [
    "The difference between \"only()\" method and \"values()\" method is that we get the instances of product class with \"only()\" method whereas the \"values()\" method will get dictionary object.\n",
    "\n",
    "Another method is \"defer()\" method which is oposit of \"only()\" method and you exclude some fields."
   ]
  },
  {
   "cell_type": "code",
   "execution_count": null,
   "metadata": {},
   "outputs": [],
   "source": [
    "product = Product.objects.defer('description')"
   ]
  },
  {
   "cell_type": "markdown",
   "metadata": {},
   "source": [
    "#### Selecting related objects:"
   ]
  },
  {
   "cell_type": "markdown",
   "metadata": {},
   "source": [
    "Sometimes, we need to preload a bunch of objects together. For example, We are loading all the products:"
   ]
  },
  {
   "cell_type": "code",
   "execution_count": null,
   "metadata": {},
   "outputs": [],
   "source": [
    "say_hello(request):\n",
    "    queryset = Product.objects.all()"
   ]
  },
  {
   "cell_type": "markdown",
   "metadata": {},
   "source": [
    "Now let's go to our template, say \"hello.html\" and render the collection of each product next to each title:"
   ]
  },
  {
   "cell_type": "code",
   "execution_count": null,
   "metadata": {},
   "outputs": [],
   "source": [
    "<html>\n",
    "    <body>\n",
    "        <ul>\n",
    "            {% for prod in products %}\n",
    "            <li>{{ prod.title }} - {{prod.collection.title}} </li>\n",
    "            {% endfor %}\n",
    "        </ul>\n",
    "    </body>\n",
    "</html>"
   ]
  },
  {
   "cell_type": "markdown",
   "metadata": {},
   "source": [
    "If you refresh the page, the application is hanging because Django is sending thousands extra queries to the database to read \"collection \" of all these products. Because when we ask for products, Django is going to query for product table. It is not going to query the related tables. So, here we need to preload the products with their collections. To do that, before we call \"all()\" method, we use \"select_related\" method:"
   ]
  },
  {
   "cell_type": "code",
   "execution_count": null,
   "metadata": {},
   "outputs": [],
   "source": [
    "say_hello(request):\n",
    "    queryset = Product.objects.select_related('collection').all()"
   ]
  },
  {
   "cell_type": "markdown",
   "metadata": {},
   "source": [
    "Now, back to the browser and refresh the page. \n",
    "\n",
    "Now, let's spand the relationship. We want to preload another field as part of this query:"
   ]
  },
  {
   "cell_type": "code",
   "execution_count": null,
   "metadata": {},
   "outputs": [],
   "source": [
    "say_hello(request):\n",
    "    queryset = Product.objects.select_related('collection__SomeOtherField').all()"
   ]
  },
  {
   "cell_type": "markdown",
   "metadata": {},
   "source": [
    "We have another method called \"prefetch_related\". We use \"select_related\" method when the other end of the relationship has one object or instance (one-to-many relationship). For example, a \"product\" has a one \"collection\". But, we use \"prefetch_related\" when the other end of the relationship has many objects (many-to-many relationship). The example is the \"promotions\" of a \"product\". So, to preload the \"promotions\", we use \"prefetch_related\" method:"
   ]
  },
  {
   "cell_type": "code",
   "execution_count": null,
   "metadata": {},
   "outputs": [],
   "source": [
    "say_hello(request):\n",
    "    queryset = Product.objects.prefetch_related('promotions').all()"
   ]
  },
  {
   "cell_type": "markdown",
   "metadata": {},
   "source": [
    "Also, we can combine these two methods:"
   ]
  },
  {
   "cell_type": "code",
   "execution_count": null,
   "metadata": {},
   "outputs": [],
   "source": [
    "queryset = Product.objects.prefetch_related('promotions')\n",
    "            .select_related('collection').all()"
   ]
  },
  {
   "cell_type": "markdown",
   "metadata": {},
   "source": [
    "An Exersise:\n",
    "\n",
    "- Write a query to get the last five orders with their customers and items (inclduing products):"
   ]
  },
  {
   "cell_type": "code",
   "execution_count": null,
   "metadata": {},
   "outputs": [],
   "source": [
    "from store.models import Product, Order\n",
    "say_hello(request):\n",
    "    queryset1 = Order.objects.select_related('customer').ordered_by('-placed_at')[:5]\n",
    "    # The next step is to preload the items of these orders, say queryset1\n",
    "    queryset1 = Order.objects.select_related('customer').\n",
    "                prefetch_related('orderitem_set').ordered_by('-placed_at')[:5]\n",
    "    # The last is to load the product referenced in each orderitem:\n",
    "    queryset1 = Order.objects.select_related('customer').\n",
    "                prefetch_related('orderitem_set__product').ordered_by('-placed_at')[:5]"
   ]
  },
  {
   "cell_type": "markdown",
   "metadata": {},
   "source": [
    "#### Aggregating objects:"
   ]
  },
  {
   "cell_type": "markdown",
   "metadata": {},
   "source": [
    "Sometimes, we want to compuste summaries or quantities like \"MAX\", \"average\", and so on. Here, we use \"aggregate()\" method:"
   ]
  },
  {
   "cell_type": "code",
   "execution_count": null,
   "metadata": {},
   "outputs": [],
   "source": [
    "from django.db.models.aggregates import Count, Max, Min, Sum, Avg\n",
    "say_hello(request):\n",
    "\n",
    "    result = Product.objects.aggregate(count=Count('id'), \n",
    "                                       Min_price=Min('unit_price'))\n",
    "    result = Product.objects.filter(collection__id=1)\n",
    "            .aggregate(count=Count('id'), Min_price=Min('unit_price'))\n",
    "        \n",
    "    return render(request, 'hello.html', {'res':result})"
   ]
  },
  {
   "cell_type": "markdown",
   "metadata": {},
   "source": [
    "#### Annotating objects:"
   ]
  },
  {
   "cell_type": "markdown",
   "metadata": {},
   "source": [
    "Sometimes, we want to add additional attributes to our objects while quering them. Here we use \"annotate()\" method. For example, we want to add a new field for each customer called \"is_new\". You cannot set a boolean values like (True, False) to this new field. You can set an expression object like \"value\", \"F\" (to reference a field in a same or another table), \"func\" (for calling database options), \"aggregate\", etc.. To check, got to the browser and refresh the page and check the SQL:"
   ]
  },
  {
   "cell_type": "code",
   "execution_count": null,
   "metadata": {},
   "outputs": [],
   "source": [
    "from django.db.models import Value, F\n",
    "\n",
    "queryset = Customer.objects.annotate(is_new=Value(True))\n",
    "queryset = Customer.objects.annotate(New_id=F('id')+1)"
   ]
  },
  {
   "cell_type": "markdown",
   "metadata": {},
   "source": [
    "#### Calling database functions"
   ]
  },
  {
   "cell_type": "code",
   "execution_count": null,
   "metadata": {},
   "outputs": [],
   "source": [
    "from django.db.models import  Func\n",
    "from django.db.models.functions import Concat\n",
    "\n",
    "# For example for concatinating two strings\n",
    "queryset = Customer.objects.annotate(full_name=Func(F('first_name'), \n",
    "                    Value(' '), F('last_name'), function='CONCAT'))\n",
    "# There is another way to get the same result using Concat class instead of func class\n",
    "queryset = Customer.objects.annotate(full_name=\n",
    "                    Concat('first_name', Value(' '), 'last_name'))\n",
    "# search for other \"django database functions\" like working with dates,\n",
    "# mathematical functions and so on."
   ]
  },
  {
   "cell_type": "markdown",
   "metadata": {},
   "source": [
    "#### Grouping data:"
   ]
  },
  {
   "cell_type": "markdown",
   "metadata": {},
   "source": [
    "Let's say we want to see the number of orders each customer has placed. So, we are going to \"annotate()\" customers with a new field called \"orders_count\" and here we want to use the \"Count\" class. Now, what field we use to count te number of orders. As Customer class is a ForeinKey for Order class, django will create a reverse relationship between target class that is Order class and Customr class. So, in the Customer class we will have a field called \"order_set\":"
   ]
  },
  {
   "cell_type": "code",
   "execution_count": null,
   "metadata": {},
   "outputs": [],
   "source": [
    "queryset = Customer.objects.annotate(orders_count='order_set')# you get an error!\n",
    "queryset = Customer.objects.annotate(orders_count='order')# it is true!"
   ]
  },
  {
   "cell_type": "markdown",
   "metadata": {},
   "source": [
    "#### Working with expression wrappers:"
   ]
  },
  {
   "cell_type": "markdown",
   "metadata": {},
   "source": [
    "We talked about the expression class which is the base class for all types of experssions. Derivitives of this class are \"Value\", \"F\", \"func\", \"Aggregate\", and \"ExpressonWrapper\". We use \"ExpressionWrapper\" when bulding complex expressions. For example we want to annotate our product and give a \"discounted_price\":"
   ]
  },
  {
   "cell_type": "code",
   "execution_count": null,
   "metadata": {},
   "outputs": [],
   "source": [
    "from django.db.models import ExpressionWrapper\n",
    "discnt = ExpressionWrapper(F('unit_price') * 0.8, output_field=DecimalField())\n",
    "queryset = Customer.objects.annotate(discounted_price=discnt)"
   ]
  },
  {
   "cell_type": "markdown",
   "metadata": {},
   "source": [
    "#### Quering generic relationship:"
   ]
  },
  {
   "cell_type": "markdown",
   "metadata": {},
   "source": [
    "Early in the course we created the \"tags\" app with two models. We have Tag() and TaggedItem(). In the later, we decided to use ContentType framework to decouple this app from the \"store\" app. So, this app knows absolutely nothing about the store app. It dose not know we have a model called product. So, with this decoupling, we can reuse this app in any other project. Now. let's see how we can find the tags for a given product. So, let's go to our database in DataGrip and look at the \"django_content_type\" table. In this table, we can see all the models we have in our application. Now, look at the \"taggeditem\" table. It has few columns like id, object_id, content_type_id, and tag_id. To find the tags for a given product, first we have to find the \"content_type_id\" of the product model. So, once we find it, we can go to the \"taggeditem\" table and write a query to  filter all records where content_type_id is equal to that for product model and object_id equals the id of the product whose tags we want to find out. Now, let's to implement this in code:"
   ]
  },
  {
   "cell_type": "markdown",
   "metadata": {},
   "source": [
    "Back to playground>views.py. First, we need to find the \"content_type_id\" for the product model that we use \"ContentType.objects\""
   ]
  },
  {
   "cell_type": "code",
   "execution_count": null,
   "metadata": {},
   "outputs": [],
   "source": [
    "from django.contrib.contenttype.models import ContentType\n",
    "from store.models import Product\n",
    "from tags.models import TaggedItem\n",
    "\n",
    "say_hello(models.Model):\n",
    "    contnt_typ = ContentType.objects.get_for_model(Product)\n",
    "    \n",
    "    # In the taggeditem table, we have a column called \"tag_id\" which is a\n",
    "    # foreinKey to the \"tags\" table. So, the actual tag is stored in \"tags\" table.\n",
    "    # So, we need to proload the tag_id field. Otherwise we have a lot of extra\n",
    "    # queries to the database.So, we call \"select_related('tag')\" to preload the\n",
    "    # tag field.\n",
    "    queryset = TaggedItem.objects \\\n",
    "        .select_related('tag') \\\n",
    "        .filter(\n",
    "            content_type = contnt_typ,\n",
    "            object_id = 1\n",
    "    )\n",
    "return render(request, 'hello.html', {'tags':list(queryset)})"
   ]
  },
  {
   "cell_type": "markdown",
   "metadata": {},
   "source": [
    "#### Custom managers:"
   ]
  },
  {
   "cell_type": "markdown",
   "metadata": {},
   "source": [
    "So, from previous lesson, our \"tags\" app was decoupled from \"store\" app. But writing code like the above code is not ideal. Everytime we want to tags for a given object, we have write the above code. The better way is to build a custom manager for the TaggedItem model. "
   ]
  },
  {
   "cell_type": "markdown",
   "metadata": {},
   "source": [
    "Go to tags>models.py to create custom manager:"
   ]
  },
  {
   "cell_type": "code",
   "execution_count": null,
   "metadata": {},
   "outputs": [],
   "source": [
    "class TaggedItemManager(models.Manager):\n",
    "    def get_tags_for(self, obj_type, obj_id):\n",
    "        contnt_typ = ContentType.objects.get_for_model(obj_type)\n",
    "        return TaggedItem.objects \\\n",
    "            .select_related('tag') \\\n",
    "            .filter(\n",
    "                content_type = contnt_typ,\n",
    "                object_id = obj_id\n",
    "            )"
   ]
  },
  {
   "cell_type": "markdown",
   "metadata": {},
   "source": [
    "Now, we need to use this manager in the taggedItem model:"
   ]
  },
  {
   "cell_type": "code",
   "execution_count": null,
   "metadata": {},
   "outputs": [],
   "source": [
    "class taggedItem(models.Model):\n",
    "    # add a new attribute called \"objects\" and send it to an instance of \n",
    "    # TaggedItamManager() class\n",
    "    objects = TaggedItemManager()\n",
    "    .\n",
    "    ."
   ]
  },
  {
   "cell_type": "markdown",
   "metadata": {},
   "source": [
    "Now go back to playground>views.py and use this new method to get the tags for a given object:"
   ]
  },
  {
   "cell_type": "code",
   "execution_count": null,
   "metadata": {},
   "outputs": [],
   "source": [
    "say_hello(models.Model):\n",
    "    TaggedItem.objects.get_tags_for(product, 1)"
   ]
  },
  {
   "cell_type": "markdown",
   "metadata": {},
   "source": [
    "#### Understanding QuerySet cache:"
   ]
  },
  {
   "cell_type": "markdown",
   "metadata": {},
   "source": [
    "#### Creating objects:"
   ]
  },
  {
   "cell_type": "code",
   "execution_count": null,
   "metadata": {},
   "outputs": [],
   "source": [
    "from store.models import Order, OrderItem, Product, Customer\n",
    "\n",
    "def say_hello(request):\n",
    "    collection = Collection()\n",
    "    collection.title = 'Video Games'\n",
    "    collection.featured_product = Product(pk=1)\n",
    "    collection.save()\n",
    "    \n",
    "    # or\n",
    "    Collection.objects.create(name='a', featured_product_id=1)"
   ]
  },
  {
   "cell_type": "markdown",
   "metadata": {},
   "source": [
    "#### Updating objects:"
   ]
  },
  {
   "cell_type": "code",
   "execution_count": null,
   "metadata": {},
   "outputs": [],
   "source": [
    "from store.models import Order, OrderItem, Product, Customer\n",
    "\n",
    "def say_hello(request):\n",
    "    collection = Collection(pk=11)\n",
    "    collection.title = 'Video Games'\n",
    "    collection.featured_product = Product(pk=1)\n",
    "    collection.save()\n",
    "    \n",
    "    # another option is:\n",
    "def say_hello(request):\n",
    "    collection = Collection.objects.get(pk=11)\n",
    "    collection.featured_product = None\n",
    "    collection.save()\n",
    "    # or\n",
    "    Collection.objects.update(featured_product=None)"
   ]
  },
  {
   "cell_type": "markdown",
   "metadata": {},
   "source": [
    "#### Deleting objects:"
   ]
  },
  {
   "cell_type": "markdown",
   "metadata": {},
   "source": [
    "We can delete a single object or multiple objects. "
   ]
  },
  {
   "cell_type": "code",
   "execution_count": null,
   "metadata": {},
   "outputs": [],
   "source": [
    "def say_hello(request):\n",
    "    # delete a single object\n",
    "    collection = Collection(pk=11)\n",
    "    collection.delete()\n",
    "    # delete multiple objects:\n",
    "    Collection.objects.filter(id__gt=5).delete()"
   ]
  },
  {
   "cell_type": "markdown",
   "metadata": {},
   "source": [
    "#### Transactions:"
   ]
  },
  {
   "cell_type": "markdown",
   "metadata": {},
   "source": [
    "Sometimes we want to make multiple changes in our database in an atomic way, meaning changes should be saved all together or if one of the changes failes, all changes should be roud back. A typical example is saving an order with its items. So, let's create a typical order object. Then, set the customer field and then save the order before we can save its items. This is how relational database works:"
   ]
  },
  {
   "cell_type": "code",
   "execution_count": 2,
   "metadata": {},
   "outputs": [],
   "source": [
    "def say_hello(request):\n",
    "    order = Order()\n",
    "    order.customer_id =1\n",
    "    order.save()\n",
    "    \n",
    "    return rendre(request, 'hello.html', {'name':'Mosh'})"
   ]
  },
  {
   "cell_type": "markdown",
   "metadata": {},
   "source": [
    "Then, we can create on OrderItem and set few fields like setting the order, product_id, quantity, and unit_price and finally save the order:"
   ]
  },
  {
   "cell_type": "code",
   "execution_count": null,
   "metadata": {},
   "outputs": [],
   "source": [
    "def say_hello(request):\n",
    "    order = Order()\n",
    "    order.customer_id =1\n",
    "    order.save()\n",
    "    \n",
    "    item = OrderItem()\n",
    "    item.order = order\n",
    "    item.product_id = 1\n",
    "    item.quantity = 1\n",
    "    item.unit_price = 10\n",
    "    item.save()\n",
    "    \n",
    "    return rendre(request, 'hello.html', {'name':'Mosh'})"
   ]
  },
  {
   "cell_type": "markdown",
   "metadata": {},
   "source": [
    "Now, imagine while saving the OrderItem, something crazy happens, we get an exception. what is going to happen? In this case we have an Order without an OrderItem. We do not want this to happen. This is where we use \"Transaction()\". So, we wrap both these operations (Order and OrderItem) inside a transaction and either both of these will be commited together or one of these operations fails, then all changes will be roud back. To do so, import \"transaction\" module. In \"transaction\" we have function called \"atomic\" that can be used as a decorator. It will wrap the entire view function (here say_hello()) into a transaction. "
   ]
  },
  {
   "cell_type": "code",
   "execution_count": null,
   "metadata": {},
   "outputs": [],
   "source": [
    "from django.db import transaction\n",
    "\n",
    "# To wrap the entire function, use decorator:\n",
    "@transaction.atomic()\n",
    "def say_hello(request):\n",
    "    #\n",
    "    # ... how some peice of code that you do not want to wrap into a transaction\n",
    "    # first remove the decorator @transaction.atomic()\n",
    "    with transaction.atomic():\n",
    "        order = Order()\n",
    "        order.customer_id =1\n",
    "        order.save()\n",
    "\n",
    "        item = OrderItem()\n",
    "        item.order = order\n",
    "        item.product_id = 1\n",
    "        item.quantity = 1\n",
    "        item.unit_price = 10\n",
    "        item.save()\n",
    "    \n",
    "    return rendre(request, 'hello.html', {'name':'Mosh'})"
   ]
  },
  {
   "cell_type": "markdown",
   "metadata": {},
   "source": [
    "#### Executing Raw SQL Queries:"
   ]
  },
  {
   "cell_type": "markdown",
   "metadata": {},
   "source": [
    "When executing queries using Django ORM is very complex, say with a lot of annotations, filters, and so on, you can write your own query by your hand and execute it directly using Django ORM. Here, we use \"raw()\" method to execute raw SQL queries:"
   ]
  },
  {
   "cell_type": "code",
   "execution_count": null,
   "metadata": {},
   "outputs": [],
   "source": [
    "def say_hello(request):\n",
    "    queryset = Product.objects.raw('SELECT * FROM store_product')\n",
    "    queryset2 = Product.objects.raw('SELECT id, title FROM store_product')\n",
    "    return rendre(request, 'hello.html', {'result':list(queryset)})"
   ]
  },
  {
   "cell_type": "markdown",
   "metadata": {},
   "source": [
    "Somtimes we wanna execute queries that do not map to our model object. In those cases, we can access the database directly and bypass the model layer. So, instead of using the \"raw()\" method, we import \"connection\" module and use \"cursor()\" function for creating a cursor object. The cursor object has a execute() method that can pass any SQL statement:"
   ]
  },
  {
   "cell_type": "code",
   "execution_count": 3,
   "metadata": {},
   "outputs": [],
   "source": [
    "from django.db import connection\n",
    "\n",
    "def say_hello(request):\n",
    "    cursor = connection.cursor()\n",
    "    cursor.execute('SELECT ...')\n",
    "    cursor.execute('INSERT ..., update, and delete')\n",
    "    # and so on!!\n",
    "    cursor.close()\n",
    "    \n",
    "    ### The better way is use With statement:\n",
    "    with connection.cursor() as cursorz:\n",
    "        cursor.execute('SELECT ...')\n",
    "        cursor.execute('INSERT ..., update, and delete')\n",
    "        # To execute stored procedures, use a method called \"callproc()\":\n",
    "        # We can call a stored procedure like get_customers and \n",
    "        # give it a bunch of parameters [1,2, 'a', ...]\n",
    "        cursor.callproc('get_custoemrs', [1, 2, 'a'])\n",
    "    \n",
    "    return rendre(request, 'hello.html', {'result':list(queryset)})"
   ]
  },
  {
   "cell_type": "markdown",
   "metadata": {},
   "source": [
    "## <font style=\"color:blue;\">5- Admin interface</font>"
   ]
  },
  {
   "cell_type": "markdown",
   "metadata": {},
   "source": [
    "we will talk about the admin interface for managing our data. We will talk about \n",
    "- Various ways to customize the admin interface\n",
    "- How to add computed columns\n",
    "- Loading related objects\n",
    "- Add searching and filtering\n",
    "- Implement custom actions\n",
    "- Add data validations\n",
    "\n",
    "That are used for managing data."
   ]
  },
  {
   "cell_type": "markdown",
   "metadata": {},
   "source": [
    "#### Setting up the Admin site or Admin app"
   ]
  },
  {
   "cell_type": "markdown",
   "metadata": {},
   "source": [
    "Every Django project comes with an admin interface which we can access at (http:.../admin). To create a new user in terminal window:\n",
    "\n",
    "$ python manage.py createsuperuser\n",
    "\n",
    "Then, it asks for user name, email and password. Now, we have an admin user. Let's log in. You encounter with an error compleining abour \"session() app\". Because the admin app dependents to session app and you may removed it by accident. So, we need to add it back to the list of installed_apps. So, back to the project, in the list of INSTALLED_APPS:\n",
    "\n",
    "> 'django.contrib.sessions'\n",
    "\n",
    "Then, execute the migrate command:\n",
    "\n",
    "$ python manage.py migrate\n",
    "\n",
    "to generate the related table for this app. Then, we have new table called \"django_session\" for storing temporarily users' data. Refresh the page and see the admin interface. The users and groups are stored in the tables of the \"auth app\". To reset the password in terminal:\n",
    "\n",
    "$ python manage.py changepassword admin\n",
    "\n",
    "To change the titles of the admin homepage like \"header: Django administration\" and \"label: site administration\":\n",
    "\n",
    "Back to the project, open the storefront folder and go to the urls module. In this module, all the urls of admin app are hoocked up at (path('admin/', admin.site.urls) ). Here we can use a bit of customization:\n",
    "\n",
    "> admin.site.site_header = 'StoreFront Admin'\n",
    "\n",
    "> admin.site.index_title = 'Admin'"
   ]
  },
  {
   "cell_type": "markdown",
   "metadata": {},
   "source": [
    "#### Registering models:"
   ]
  },
  {
   "cell_type": "markdown",
   "metadata": {},
   "source": [
    "Let's see how we can register our models, so we can manage them in the admin site. Back to the project and got the store folder. Every django app has a module called \"admin.py\". And this is where we write all the codes for customizing the administration panel for that app. So, first thing to do is registering our models for the admin site. So, the admin module was already added on the top. In the store>admin.py, For example, we want to register the collection moedel:\n",
    "\n",
    "> from . import models\n",
    "\n",
    "> admin.site.register(models.Collection)\n",
    "\n",
    "> admin.site.register(models.Product)"
   ]
  },
  {
   "cell_type": "markdown",
   "metadata": {},
   "source": [
    "To show the title of each collection: Go to the Collection class. To change the string representation of an object, we use magic __ str __ method:"
   ]
  },
  {
   "cell_type": "code",
   "execution_count": null,
   "metadata": {},
   "outputs": [],
   "source": [
    "class Collection(models.Model):\n",
    "    . . . \n",
    "    def __str__(self):\n",
    "        return self.title\n",
    "    \n",
    "    # To order the titles of collections:\n",
    "    class Meta():\n",
    "        ordering = ['title']"
   ]
  },
  {
   "cell_type": "markdown",
   "metadata": {},
   "source": [
    "#### Customizing the list page:"
   ]
  },
  {
   "cell_type": "markdown",
   "metadata": {},
   "source": [
    "How customize the list page? To add new columns to the list of, for example, admin page, make editable, how to change the number of items and so on. So, back to admin module (admin.py). First, we need to add a new class called ProductAdmin(admin.ModelAdmin). With this class we can specify how view and edit the our products:"
   ]
  },
  {
   "cell_type": "code",
   "execution_count": null,
   "metadata": {},
   "outputs": [],
   "source": [
    "class ProductAdmin(admin.ModelAdmin):\n",
    "    list_display = ['title','unit_price']\n",
    "    list_editable = ['unit_price']\n",
    "    list_per_page = 10\n",
    "    \n",
    "admin.site.register(models.Product.ProductAdmin)"
   ]
  },
  {
   "cell_type": "markdown",
   "metadata": {},
   "source": [
    "The shorter way is to use register decorator:"
   ]
  },
  {
   "cell_type": "code",
   "execution_count": null,
   "metadata": {},
   "outputs": [],
   "source": [
    "@admin.register(models.Product)\n",
    "class ProductAdmin(admin.ModelAdmin):\n",
    "    list_display = ['title','unit_price']\n",
    "    list_editable = ['unit_price']\n",
    "    list_per_page = 10"
   ]
  },
  {
   "cell_type": "markdown",
   "metadata": {},
   "source": [
    "To find the complete list of options here for ModelAdmin, google \"Django ModelAdmin\", on the right side you can find the \"Model Admin options\"."
   ]
  },
  {
   "cell_type": "markdown",
   "metadata": {},
   "source": [
    "#### Adding the computed columns:"
   ]
  },
  {
   "cell_type": "markdown",
   "metadata": {},
   "source": [
    "Let's see how we can add computed columns in the list of products. For example we want to add a new column called \"inventory_status\" in which it shows low if the inventory is less than 10 otherwise it is ok. To implement this, back to our Product admin class, we want to display \"inventory_status\" in the list_display. If you add just \"inventory\", you see just numbers:"
   ]
  },
  {
   "cell_type": "code",
   "execution_count": null,
   "metadata": {},
   "outputs": [],
   "source": [
    "@admin.register(models.Product)\n",
    "class ProductAdmin(admin.ModelAdmin):\n",
    "    list_display = ['title','unit_price','inventory_status']\n",
    "    list_editable = ['unit_price']\n",
    "    list_per_page = 10\n",
    "    \n",
    "    #To implement sorting based on inventory_status, use admin.display decorator\n",
    "    @admin.display(ordering='inventory')\n",
    "    def inventoryz_status(self, product):\n",
    "        if product.inventory < 10:\n",
    "            return 'Low'\n",
    "        return 'OK'"
   ]
  },
  {
   "cell_type": "markdown",
   "metadata": {},
   "source": [
    "#### Selecting related objects:"
   ]
  },
  {
   "cell_type": "markdown",
   "metadata": {},
   "source": [
    "Let's talk about loading related objects. for example, in the list of products, we want to add a column to show the collection of each product. So, back to the product admin class, add 'collection' field to the list_display. Because the 'collection' is a related field, Django will show a string representation of the collection here. Back to the Collection class, we over wrote the __ str __ mothod. So, when showing the products, for each product, Django will call this method to get the title of the collection of that product. If we do not want to show the string representation of a collection, in other word, we want to show a particluar field of collection model, we cannot use for example \"collection __ title\" to reference at particulr field like title field. We can define a method for this purpose \"def collection_title()\". But, using this method will execute some extra queries, because for each product, Django is sending an extra query to the database to read the collection of that product:"
   ]
  },
  {
   "cell_type": "code",
   "execution_count": null,
   "metadata": {},
   "outputs": [],
   "source": [
    "@admin.register(models.Product)\n",
    "class ProductAdmin(admin.ModelAdmin):\n",
    "    list_display = ['title','unit_price','collection_title']\n",
    "    list_editable = ['unit_price']\n",
    "    list_per_page = 10\n",
    "    \n",
    "    def collection_title(self, product):\n",
    "        return product.collection.title"
   ]
  },
  {
   "cell_type": "markdown",
   "metadata": {},
   "source": [
    "The more efficient way (executing less queries) is to use a special attribute called \"list_select_related()\":"
   ]
  },
  {
   "cell_type": "code",
   "execution_count": null,
   "metadata": {},
   "outputs": [],
   "source": [
    "@admin.register(models.Product)\n",
    "class ProductAdmin(admin.ModelAdmin):\n",
    "    list_display = ['title','unit_price','collection_title']\n",
    "    list_editable = ['unit_price']\n",
    "    list_per_page = 10\n",
    "    list_select_related = ['collection']\n",
    "    def collection_title(self, product):\n",
    "        return product.collection.title"
   ]
  },
  {
   "cell_type": "markdown",
   "metadata": {},
   "source": [
    "#### Overriding the base QuerySet"
   ]
  },
  {
   "cell_type": "markdown",
   "metadata": {},
   "source": [
    "Sometimes we need to override the base queryset used in rendering a list page. For example, in the list of collection, we want to add a column showing the number of products in each collection. So, create a class called CollectionAdmin and add 'title' and 'product_count' in the list_display:"
   ]
  },
  {
   "cell_type": "code",
   "execution_count": null,
   "metadata": {},
   "outputs": [],
   "source": [
    "@admin.register(models.Collection)\n",
    "class CollectionAdmin(admin.ModelAdmin):\n",
    "    list_display = ['title','products_count']"
   ]
  },
  {
   "cell_type": "markdown",
   "metadata": {},
   "source": [
    "But, our collection do not have a field called 'products_count'. So, we need to treat this like a computed field and define a new method called \"products_count\". But, again the collection object do not have 'product_count' field. So, this is where we need to override the queryset on this page and annotate our collections with the number of their products. \n",
    "\n",
    "Every ModelAdmin has a method called \"get_queryset()\" which we can override:"
   ]
  },
  {
   "cell_type": "code",
   "execution_count": null,
   "metadata": {},
   "outputs": [],
   "source": [
    "@admin.register(models.Collection)\n",
    "class CollectionAdmin(admin.ModelAdmin):\n",
    "    list_display = ['title','products_count']\n",
    "    \n",
    "    # to sorting based on products_count use decorator:\n",
    "    @admin.display(ordering='products_count')\n",
    "    def products_count(self, collection):\n",
    "        return collection.products_count\n",
    "    \n",
    "    def get_queryset(self, request):\n",
    "        return super().get_queryset(request).annotate(\n",
    "            products_count=Count('product'))"
   ]
  },
  {
   "cell_type": "markdown",
   "metadata": {},
   "source": [
    "#### Providing links to other pages:"
   ]
  },
  {
   "cell_type": "markdown",
   "metadata": {},
   "source": [
    "Let's see how we can add links. For example, when we click on the links in Collections, we can see the products in each collection. So, back to the \"product_count\" method. We should return an html link. To do so, we should import a utility function on the top:"
   ]
  },
  {
   "cell_type": "code",
   "execution_count": 1,
   "metadata": {},
   "outputs": [],
   "source": [
    "from django.utils.html import format_html"
   ]
  },
  {
   "cell_type": "markdown",
   "metadata": {},
   "source": [
    "Use \"ctrl + -\" to jump back to where we were."
   ]
  },
  {
   "cell_type": "markdown",
   "metadata": {},
   "source": [
    "In the products_count function, add a 'format_html' method to write a bit of html code. In html, we can represent a link using \"<a>ancher element! for example showing the number of products </a>\" element (here google.com is used as a test link):"
   ]
  },
  {
   "cell_type": "code",
   "execution_count": null,
   "metadata": {},
   "outputs": [],
   "source": [
    "from django.utils.html import format_html\n",
    "\n",
    "@admin.register(models.Collection)\n",
    "class CollectionAdmin(admin.ModelAdmin):\n",
    "    list_display = ['title','products_count']\n",
    "    \n",
    "    # to sorting based on products_count use decorator:\n",
    "    @admin.display(ordering='products_count')\n",
    "    def products_count(self, collection):\n",
    "        return format_html('<a href=\"http://google.com\">{}</a>',\n",
    "                           collection.products_count) "
   ]
  },
  {
   "cell_type": "markdown",
   "metadata": {},
   "source": [
    "Now let's see how we can send our users to the products page. Look at the url page, that is .../amin/store/product/. We do not want to hard code to this url, because this url can potentially change in the future. We should ask Django to give us the url of this page. To do that, we need to import another utility function:"
   ]
  },
  {
   "cell_type": "code",
   "execution_count": 3,
   "metadata": {},
   "outputs": [],
   "source": [
    "from django.urls import reverse"
   ]
  },
  {
   "cell_type": "markdown",
   "metadata": {},
   "source": [
    "Then, go back to our method and call reverse function and give it a espacial argument:\n",
    "\n",
    "> reverse('admin:app_model_page')\n",
    "\n",
    "> reverse('admin:store_product_changelist')"
   ]
  },
  {
   "cell_type": "code",
   "execution_count": null,
   "metadata": {},
   "outputs": [],
   "source": [
    "from django.utils.html import format_html\n",
    "from django.urls import reverse\n",
    "\n",
    "@admin.register(models.Collection)\n",
    "class CollectionAdmin(admin.ModelAdmin):\n",
    "    list_display = ['title','products_count']\n",
    "    \n",
    "    # to sorting based on products_count use decorator:\n",
    "    @admin.display(ordering='products_count')\n",
    "    def products_count(self, collection):\n",
    "        url = reverse('admin:store_product_changelist')\n",
    "        return format_html('<a href=\"{}\">{}</a>', url\n",
    "                           collection.products_count) "
   ]
  },
  {
   "cell_type": "markdown",
   "metadata": {},
   "source": [
    "To apply a filter, we need to append a querystring to the url. So, we type a ? mark followed by collection__id=1. So, we need to add this part dynamically. Here we need to import \"urlencode\" function:"
   ]
  },
  {
   "cell_type": "code",
   "execution_count": null,
   "metadata": {},
   "outputs": [],
   "source": [
    "from django.utils.html import format_html, urlencode\n",
    "from django.urls import reverse\n",
    "\n",
    "@admin.register(models.Collection)\n",
    "class CollectionAdmin(admin.ModelAdmin):\n",
    "    list_display = ['title','products_count']\n",
    "    \n",
    "    # to sorting based on products_count use decorator:\n",
    "    @admin.display(ordering='products_count')\n",
    "    def products_count(self, collection):\n",
    "        url = (reverse('admin:store_product_changelist')\n",
    "              + '?'\n",
    "              + urlencode({\n",
    "                  # Since a query string contains multiple key-value pairs\n",
    "                  # so, that is why we use a dictionary\n",
    "                  # We use str function to change number to string\n",
    "                  'collection__id':str(collection.id)\n",
    "              }))\n",
    "        return format_html('<a href=\"{}\">{}</a>', url, \n",
    "                           collection.products_count) "
   ]
  },
  {
   "cell_type": "markdown",
   "metadata": {},
   "source": [
    "#### Adding search to the list page:"
   ]
  },
  {
   "cell_type": "markdown",
   "metadata": {},
   "source": [
    "To add searching to, for example, the customer page:"
   ]
  },
  {
   "cell_type": "code",
   "execution_count": null,
   "metadata": {},
   "outputs": [],
   "source": [
    "@admin.register(models.Customer)\n",
    "class CustomerAdmin(admin.ModelAdmin):\n",
    "    list_display = ['first_name', 'last_name', 'membership']\n",
    "    . \n",
    "    .\n",
    "    .\n",
    "    search_fields = ['first_name','last_name']\n",
    "    search_fields = ['first_name__istrartwith','last_name_istartwith']"
   ]
  },
  {
   "cell_type": "markdown",
   "metadata": {},
   "source": [
    "#### Add filtering to the list page:"
   ]
  },
  {
   "cell_type": "markdown",
   "metadata": {},
   "source": [
    "To implement filtering to, for example, products page and filter our products by their collections and last update:"
   ]
  },
  {
   "cell_type": "code",
   "execution_count": null,
   "metadata": {},
   "outputs": [],
   "source": [
    "@admin.register(models.Product)\n",
    "class ProductAdmin(admin.ModelAdmin):\n",
    "    list_display = ['title', 'unit_price']\n",
    "    .\n",
    "    .\n",
    "    list_filter= ['collection','last_update']"
   ]
  },
  {
   "cell_type": "markdown",
   "metadata": {},
   "source": [
    "We also can create our own custom filters. Say, let's we want to add a filter here to see only products with low inventory. So, back to the admin module, create a new class called InventoryFilter(admin.SimpleListFilter) or any other arbitrary name. Here we should send a couple of attributes like \"title\" that will be appeared as a title of our filtering, and second is \"parameter_name\" with any arbitrary name that will be used in the quert string. There are two metods we need to implement here. \n",
    "\n",
    "One of them is \"lookups()\" that we can specify what items should appear in the list of filtered objects. In this method, we return a list of tuples. Each tuple represents one of the filters. In each tuple, the first value is an actual value used for filtering. This can be anything. The second value is a human readable discription. \n",
    "\n",
    "The second method is \"queryset()\" and this is where we implement the filtering logic:"
   ]
  },
  {
   "cell_type": "code",
   "execution_count": null,
   "metadata": {},
   "outputs": [],
   "source": [
    "# In the admin model:\n",
    "class InventoryFilter(admin.SimpleListFilter):\n",
    "    title = 'inventory'\n",
    "    parameter_name = 'inventory'\n",
    "    \n",
    "    def lookups(self, request, model_admin):\n",
    "        return [\n",
    "            ('<10', 'Low')\n",
    "        ]\n",
    "    \n",
    "    def queryset(self, request, queryset: QuerySet):\n",
    "        if self.value() == '<10':\n",
    "            return queryset.filter(inventory__lt=10)\n",
    "\n",
    "        \n",
    "@admin.register(models.Product)\n",
    "class ProductAdmin(admin.ModelAdmin):\n",
    "    list_display = ['title', 'unit_price']\n",
    "    .\n",
    "    .\n",
    "    list_filter= ['collection','last_update', InventoryFilter]"
   ]
  },
  {
   "cell_type": "markdown",
   "metadata": {},
   "source": [
    "#### Creating custom acations:"
   ]
  },
  {
   "cell_type": "markdown",
   "metadata": {},
   "source": [
    "Defining custom actions: Every list page comes with a delete action for deleting multiple objects in one goal. We can extend this list and register our custom actions. For example let's say define a custom action for clearing the inventory of a bunch of products in one goal. So, we want to set the inventory to zero. Back to the product adming class and difine a new method called \"clear_inventory\" or any other arbitrary name. Here yo uneed three parameters: self, request (which represents the current http request), and queryset (which contains the objects the user has selected). In this metod you can do anything to updating objects. To show a message to the user, we call \"self.message_user\". Every module admin contains this method to show a message to the user:"
   ]
  },
  {
   "cell_type": "code",
   "execution_count": null,
   "metadata": {},
   "outputs": [],
   "source": [
    "@admin.register(models.Product)\n",
    "class ProductAdmin(admin.ModelAdmin):\n",
    "    actions =['clear_inventory']\n",
    "    .\n",
    "    .\n",
    "    \n",
    "    list_display = ['title', 'unit_price']\n",
    "    .\n",
    "    .\n",
    "    \n",
    "    @admin.action(description='Clear_inventory')\n",
    "    def clear_inventory(self, request, queryset):\n",
    "        updated_count = queryset.update(inventory=0)\n",
    "        self.message_user(\n",
    "            request,\n",
    "            f'{updated_count} products were successfully updated.'\n",
    "        )"
   ]
  },
  {
   "cell_type": "markdown",
   "metadata": {},
   "source": [
    "Here we also can show error messages. When calling \"message_user\" method we can specify the type of message as the third argument. First we need to import \"messages\" model from django.contrib and padd the third argument:"
   ]
  },
  {
   "cell_type": "code",
   "execution_count": null,
   "metadata": {},
   "outputs": [],
   "source": [
    "    @admin.action(description='Clear_inventory')\n",
    "    def clear_inventory(self, request, queryset):\n",
    "        updated_count = queryset.update(inventory=0)\n",
    "        self.message_user(\n",
    "            request,\n",
    "            f'{updated_count} products were successfully updated.',\n",
    "            messages.ERROR\n",
    "        )"
   ]
  },
  {
   "cell_type": "markdown",
   "metadata": {},
   "source": [
    "#### Customizing forms:"
   ]
  },
  {
   "cell_type": "markdown",
   "metadata": {},
   "source": [
    "Let's see how we can customize the form, or adding or updating models. For example, in the product page, click \"ADD PRODUCT\" to add a product. You see a form and we want to customize it. Back to the \"ProductAdmin\" class. You can set \"fields\" to the list of fields we want to show to the user.  Another attribute called \"exclude\" which is the opposite of fields. So, with this attribute we can exclude certain fields. Wh also have \"readonly_fields\" for making some fields read-only case. \n",
    "\n",
    "To auto-populate a field, like auto populating the \"slug\" field when tou fill out the title, use \"prepopulated_fields\" to a dictionary. In this dictionary, we can specify how each field in this form can prepopulated. "
   ]
  },
  {
   "cell_type": "code",
   "execution_count": null,
   "metadata": {},
   "outputs": [],
   "source": [
    "@admin.register(models.Product)\n",
    "class ProductAdmin(admin.ModelAdmin):\n",
    "    actions =['clear_inventory']\n",
    "    .\n",
    "    .\n",
    "    # fields render what you want to show to the user.\n",
    "    fields = ['title','slug']\n",
    "    .\n",
    "    # To exclude some fields\n",
    "    exclude = ['promotions']\n",
    "    # To make read only\n",
    "    readonly_fields = ['title']\n",
    "    # To prepopulate the slug field\n",
    "    prepopulated_fields = {\n",
    "        'slug': ['title','...']\n",
    "    }\n",
    "    .\n",
    "    \n",
    "    @admin.action(description='Clear_inventory')\n",
    "    def clear_inventory(self, request, queryset):\n",
    "        updated_count = queryset.update(inventory=0)\n",
    "        self.message_user(\n",
    "            request,\n",
    "            f'{updated_count} products were successfully updated.'\n",
    "        )"
   ]
  },
  {
   "cell_type": "markdown",
   "metadata": {},
   "source": [
    "Now look at the collection field where we have drop down list to show all the collection titles. If there are many collection titles, showing the drop down list will have a couple of issues, to working with it as well as the performance issue. So, we have to convert it to autocomplete field. Back to ProductAdmin class and add it. If you get an error indicating the collection should be included in the search field. So Back to CollectionAdmin class and use \"search_fields\" attribute:"
   ]
  },
  {
   "cell_type": "code",
   "execution_count": null,
   "metadata": {},
   "outputs": [],
   "source": [
    "@admin.register(models.Collection)\n",
    "class CollectionAdmin(admin.ModelAdmin):\n",
    "    list_display = ['title','products_count']\n",
    "    .\n",
    "    .\n",
    "    # Add collection to the search field.\n",
    "    search_fields = ['title']\n",
    "    \n",
    "@admin.register(models.Product)\n",
    "class ProductAdmin(admin.ModelAdmin):\n",
    "    actions =['clear_inventory']\n",
    "    .\n",
    "    .\n",
    "    autocomplete_fields = ['collection']\n",
    "    \n",
    "    "
   ]
  },
  {
   "cell_type": "markdown",
   "metadata": {},
   "source": [
    "If you want to find all the options available to customize the form, google \"django modeladmin\" and look at ModelAdmin options. "
   ]
  },
  {
   "cell_type": "markdown",
   "metadata": {},
   "source": [
    "#### Adding data validation:"
   ]
  },
  {
   "cell_type": "markdown",
   "metadata": {},
   "source": [
    "By default, our forms include basic data validation logic. For example, because we have defined all the fields in product model as required fields, none of them are nullable and if you try to save the form of \"ADD PRODUCT\", without supply any data, we get the validation errors like \"This field is required\" and so on. So, how we can customize this validation here. For example, making the description field nullable. Back to the product class and make the description field (null=True). Please note that this argument applies to our database. To make this field optional in the admin interface, we should set another argument (null=True, blank=True). Then, make migration and migrate and apply to the database. \n",
    "\n",
    "$ python manage.py makemigration\n",
    "\n",
    "$ python manage.py migrate\n",
    "\n",
    "What about the \"unit_price\". We can not type any character like strings since the type of this field is decimal and it only accept numbers. But, we are still free to set zero or negative numbers. To set a validation limit for this, we need to import MinValueValidator from django.core.validators. In this module, we have a bunch of validators. For a complete list of vlidators, google \"django validators\" and you can see like EmailValidator, URLValidator, MaxValueValidator, MinValueValidator, and so on. Then, go to the Product model and add an argument including a list of validator objects in the unit_price field."
   ]
  },
  {
   "cell_type": "code",
   "execution_count": null,
   "metadata": {},
   "outputs": [],
   "source": [
    "from django.core.validators import MinValueValidator\n",
    "\n",
    "class Prodcut(model.Model):\n",
    "    .\n",
    "    .\n",
    "    unit_price = models.Decimalfield(\n",
    "        max_digits=6,\n",
    "        decimal_places=2,\n",
    "        validator= [MinValueValidator(1, message=...)]\n",
    "    )"
   ]
  },
  {
   "cell_type": "markdown",
   "metadata": {},
   "source": [
    "#### Editing children using inlines:"
   ]
  },
  {
   "cell_type": "markdown",
   "metadata": {},
   "source": [
    "As an example, currently we can create a new order but there is no way to manage the items from the order. To do so, back to store>admin.py, before the OrderAdmin class, create a new class called OrderItemInline(admin.TabularInline) or OrderItemInline(admin.StackedInline):"
   ]
  },
  {
   "cell_type": "code",
   "execution_count": null,
   "metadata": {},
   "outputs": [],
   "source": [
    "class OrderItemInline(admin.StackedInline):\n",
    "class OrderItemInline(admin.TabularInline):\n",
    "    autocomplete_fields = ['product']\n",
    "    model = models.OrderItem\n",
    "    # To manage the number of place holders\n",
    "    extra =0\n",
    "    # To set the min and max number of items from order\n",
    "    min_num = 1\n",
    "    max_num = 10\n",
    "@admin.register(models.Order)\n",
    "class OrderAdmin(admin.ModelAdmin):\n",
    "    .\n",
    "    .\n",
    "    indlines = [OrderItemInline]\n",
    "        "
   ]
  },
  {
   "cell_type": "markdown",
   "metadata": {},
   "source": [
    "#### Using Generic relations:"
   ]
  },
  {
   "cell_type": "markdown",
   "metadata": {},
   "source": [
    "In the product form, we want to add a new section for managing the tags. So, back to our code, First go to the tags app, in its admin module (tags>admin.py), we need to register our tag model, so, we can manage our tags in the admin interface. So, in tags>admin.py:"
   ]
  },
  {
   "cell_type": "code",
   "execution_count": null,
   "metadata": {},
   "outputs": [],
   "source": [
    "from .models import Tag\n",
    "\n",
    "@admin.register(Tag)\n",
    "class TagAdmin(model.ModelAdmin):\n",
    "    search_fields = ['label']"
   ]
  },
  {
   "cell_type": "markdown",
   "metadata": {},
   "source": [
    "to see the label of each tag, as we discussed before, we need to override the __ str __ method in the Tag class. Go to tags.models.py>Tag class:"
   ]
  },
  {
   "cell_type": "code",
   "execution_count": null,
   "metadata": {},
   "outputs": [],
   "source": [
    "class Tag(models.Model):\n",
    "    laber = models.CharField(max_length=255)\n",
    "    \n",
    "    def __str__(self):\n",
    "        return self.label"
   ]
  },
  {
   "cell_type": "markdown",
   "metadata": {},
   "source": [
    "Now, using Inlines, we can manage the tags in our product form. Let's open up the store>admin.py and before the ProductAdmin class, we create an inline class for managing the tags called TagInline :"
   ]
  },
  {
   "cell_type": "code",
   "execution_count": null,
   "metadata": {},
   "outputs": [],
   "source": [
    "from django.contrib.contenttypes.admin import GenericTabularInline\n",
    "\n",
    "\n",
    "class TagInline(GenericTabularInline):\n",
    "    # in tags>admin.py, add search_fields = ['label']\n",
    "    autocomplete_fields = ['tag']\n",
    "    model = TaggedItem\n",
    "\n",
    "@admin.register(models.Product)\n",
    "class ProductAdmin(admin.ModelAdmin):\n",
    "    actions =['clear_inventory']\n",
    "    .\n",
    "    inlines = [TagInline]"
   ]
  },
  {
   "cell_type": "markdown",
   "metadata": {},
   "source": [
    "This is how we can use Generic relationships in our forms. But, there is a problem in our implementation."
   ]
  },
  {
   "cell_type": "markdown",
   "metadata": {},
   "source": [
    "#### Extending pluggable apps:"
   ]
  },
  {
   "cell_type": "markdown",
   "metadata": {},
   "source": [
    "In the admin module of the store app, we had to import the TaggedItem from tags.models. It means that store app has a dependency to the tags app. So, we can not build and deploy them independently. Ideally, our apps should be self contained. So, we can easily plug them to the new projects. So, we need to decouple the two apps. To do so, we are going to create a new app called \"store_custom\" and this is the customization of the store app which knows about both \"store\" and \"tags\" apps. This is specific to our project. So, in the terminal:\n",
    "\n",
    "$ python manage.py startapp store_custom\n",
    "\n",
    "In the admin module of store_custom, we are going to combine features from our two apps. So, in store_custom>admin.py:"
   ]
  },
  {
   "cell_type": "code",
   "execution_count": null,
   "metadata": {},
   "outputs": [],
   "source": [
    "from store.admin import ProductAdmin\n",
    "from tags.models import taggedItem\n",
    "\n",
    "from django.contrib.contenttypes.admin import GenericTabularInline\n",
    "\n",
    "# The class TagInline from the store>admin.py should moved to here\n",
    "class TagInline(GenericTabularInline):\n",
    "    autocomplete_fields = ['tag']\n",
    "    model = TaggedItem\n",
    "    \n",
    "# We need to create a new ProdctAdmin which extends the generic ProductAdmin\n",
    "# that comes with our reusable app (here is store app) and in this\n",
    "# new implementation we are going to reference the TagInline class:\n",
    "\n",
    "class CustomProductAdmin(ProductAdmin):\n",
    "    inlines = [TagInline]\n",
    "    \n",
    "# Now we have new ProductAdmin and we need to unregister the old one an register\n",
    "# this new one:\n",
    "admin.site.unregister(Product)\n",
    "admin.site.register(Product, CustomProductAdmin)"
   ]
  },
  {
   "cell_type": "markdown",
   "metadata": {},
   "source": [
    "The final step is to register the new app in the \"INSTALLED_APPS\". Use \"ctrl + t\" as a shortcut to go to installed apps list."
   ]
  },
  {
   "cell_type": "code",
   "execution_count": null,
   "metadata": {},
   "outputs": [],
   "source": [
    " "
   ]
  }
 ],
 "metadata": {
  "kernelspec": {
   "display_name": "Python 3",
   "language": "python",
   "name": "python3"
  },
  "language_info": {
   "codemirror_mode": {
    "name": "ipython",
    "version": 3
   },
   "file_extension": ".py",
   "mimetype": "text/x-python",
   "name": "python",
   "nbconvert_exporter": "python",
   "pygments_lexer": "ipython3",
   "version": "3.8.3"
  }
 },
 "nbformat": 4,
 "nbformat_minor": 4
}
