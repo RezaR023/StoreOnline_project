{
 "cells": [
  {
   "cell_type": "markdown",
   "metadata": {},
   "source": [
    "# <font color=\"blue\">Django course, part 2:</font>"
   ]
  },
  {
   "cell_type": "markdown",
   "metadata": {},
   "source": [
    "In the first part, we built the data models and the admin interface and so on. In this part, we are going to build a RESTful API for our application."
   ]
  },
  {
   "cell_type": "markdown",
   "metadata": {},
   "source": [
    "#### Setting up the project:"
   ]
  },
  {
   "cell_type": "markdown",
   "metadata": {},
   "source": [
    "In DataGrip, we will create a new dabase called \"storeonline\". To do so, open a new Query Console, and type:\n",
    "\n",
    "> CREATE DATABASE storeonline\n",
    "\n",
    "So, we need to open our project and run our migrations. Then, Django will automatically create our database tables for us. Use the attached Zip file where you can find all the source codes and database seed file. \n",
    "\n",
    "Press \"ctrl + t\" and jump to the DATABASE section of the settings module. Change 'NAME': 'storeonline'. Save the changes and open the terminal:\n",
    "\n",
    "$ pipenv install\n",
    "\n",
    "to install all the dependencies. \n",
    "\n",
    "$ pipenv shell\n",
    "\n",
    "$ python manage.py migrate\n",
    "\n",
    "Back to DataGrip, close all the sessions, open a new Query console for storeonline. Back to zip file, go to the data folder and open the seed file in the DataGrip. Then, from the session drop-down (top right), select console_23, and in schema, select storeonline. Then, select all the statements and run them. Final step is to run from the webserver:\n",
    "\n",
    "$ python manage.py runserver\n",
    "\n",
    "For our new inserted database, create a new supperuser\n",
    "\n",
    "$ python manage.py createsuperuser"
   ]
  },
  {
   "cell_type": "markdown",
   "metadata": {},
   "source": [
    "## <font color=\"blue\">2-Building RESTfull APIs</font>"
   ]
  },
  {
   "cell_type": "markdown",
   "metadata": {},
   "source": [
    "#### What are RESTful APIs?"
   ]
  },
  {
   "cell_type": "markdown",
   "metadata": {},
   "source": [
    "We need a way to expose our data to clients like a web app running inside a browser or a mobile app running on a mobile device. And this is where APIs (Application Programming Interface) come to the picture. Building an API is essentially building an interface that client apps can use to get or save the data. APIs are going to have a bunch of endpoints for different purposes. So, we can have an end point for getting the list of products as well as creating, updating, and deleting them. We can have other endpoints for managing our shopping carts, orders, and so on. Client apps can send requests to these endpoints and get or save products, orders, shopping carts, etc.. \n",
    "\n",
    "What is RESTful API?\n",
    "\n",
    "REST is short for \"Representational State Transfer\" and stands for defining a bunch of ruls for clients and servers to communicate over the web. following these ruls help us build sysems that are fast, scalable, relaiable, easy to understand, and easy to change. An API that confirm these ruls called RESTful. There are three concepts that everyone shoul know: resources, resource representations, and HTTP methods."
   ]
  },
  {
   "cell_type": "markdown",
   "metadata": {},
   "source": [
    "#### Resources:"
   ]
  },
  {
   "cell_type": "markdown",
   "metadata": {},
   "source": [
    "Resources in a RESTful API is objects in our application like Product, Cart, Collection. These resources are avalilable on the web and client applicaton can access them using URLs (Uniform Resource Locator). So, URL is way to locate a resource on the web. It is basically a web address. Assuming our website is hosted, for example, at http://rezabuy.com, we can access all products in  http://rezabuy.com/products or access an individual product http://rezabuy.com/products/1. A resource can contain other resources like reviews http://rezabuy.com/products/1/reviews or for an especific review http://rezabuy.com/products/1/reviews/1. As a general rule of thumb, we should not nest resources too deep, say two rows is fine, but beyond that the URL can get complex and unmanagable. The above pattern or consistency across these URLs is one of the attributes of RESTful APIs. So, if we simply follow this pattern are API will be familiar and easy to understand to others. "
   ]
  },
  {
   "cell_type": "markdown",
   "metadata": {},
   "source": [
    "#### Resource representations:"
   ]
  },
  {
   "cell_type": "markdown",
   "metadata": {},
   "source": [
    "We can identify a resource using it's URL. When we hit that URL, the server returns the resource in a certain format or representation. Different way of representations are HTML, XML (an old format for representing data), or JSON (a modern format that replaces XML). None of these are an internal representation of resources on the server. In other words, on the server, we identify a resource like Product, using an object or an instance of a python class. But, we return this to the client, we represent it as a HTML, XML, or JSON. Because these are the formats that clients can understand. REST does not dictate any format or representation we should use. JSON stands for JavaScripts Object Notation. Here you see a JSON representation of a product that uses a dictionary (key-value pairs) where keis are always string format (should be surrounded by double quote) but the value can be any format like string, number, boolan, an another object (in the curly braces {}), array (like []) and so on:"
   ]
  },
  {
   "cell_type": "code",
   "execution_count": null,
   "metadata": {},
   "outputs": [],
   "source": [
    "{\n",
    "    \"name\":\"Reza\",\n",
    "    \"age\": 37,\n",
    "    \"is_online\": True,\n",
    "    \"employere\":{},\n",
    "    \"interests\":[]\n",
    "}"
   ]
  },
  {
   "cell_type": "markdown",
   "metadata": {},
   "source": [
    "#### HTTP methods:"
   ]
  },
  {
   "cell_type": "markdown",
   "metadata": {},
   "source": [
    "when building RESTful APIs, we expose one or more endpoints for clients. each endpoind may support various kinds of operations. So, some endpoints may only allow reading data, while others may allow modifying data as well. This is where HTTP method comes to the picture. Using HTTP methods, the client can tell the server what it wants to do with the resource. So, HTTP defines method like \"GET\" for getting a resource or a collection of resources, \"POST\" for creating a resource, \"PUT\" for updating the resource, \"PATCH\" for updating a part of the resource like a subset of a properties, and \"DELETE\" for deleting a resource. For example, we are going to create a product. In our client app, we send a \"POST /product\" request to the products endpoint. So, the server knows we want to create a product. But, where is the product we want to create? We insert this product like a JSON object in the body of the request:\n",
    "\n",
    "> {\n",
    "> \"title\": \"...\",\n",
    "> \"price\": 10\n",
    ">}\n",
    "\n",
    "The server will read this product and create it. Now, let's we want to update our product. First, we need to ask we want to update all the properties or just a subset of that. If we want to update all properties, we sould send a \"PUT\" request. Otherwise, we should send a \"PATCH\" request to the related URL (like /products/1). Similar to creating a product, we should include a product object in the body of the request in a JSON format. So, server will extract this product from the request and update it accordingly. For deleting a product, we should send a \"DELETE /product/1\" request, but, here no need to send a JSON object in the body of the request."
   ]
  },
  {
   "cell_type": "markdown",
   "metadata": {},
   "source": [
    "#### Installing Django REST framework:"
   ]
  },
  {
   "cell_type": "markdown",
   "metadata": {},
   "source": [
    "In terminal:\n",
    "\n",
    "$ pipenv install djangorestframework"
   ]
  },
  {
   "cell_type": "markdown",
   "metadata": {},
   "source": [
    "Now, we need to add it in the installed_apps in the settings module.\n",
    "\n",
    "> 'rest_framework',"
   ]
  },
  {
   "cell_type": "markdown",
   "metadata": {},
   "source": [
    "#### Creating API views:"
   ]
  },
  {
   "cell_type": "markdown",
   "metadata": {},
   "source": [
    "Now, let's see how we can create an endpoint like \"127.0.0.1:8000/store/products\" and then, if we send a request to this endpoint we should see all the products in our database. Back to the project, go to th store app and open the views module. In this module, we should create a view function. for details, please look at the __writing views__ in __Django_Course1__. In store>views/py:"
   ]
  },
  {
   "cell_type": "code",
   "execution_count": null,
   "metadata": {},
   "outputs": [],
   "source": [
    "# If you see a warnings under the django, it is because the\n",
    "#current python interpreter is not the same as the one that we in virtual env\n",
    "# To solve, open a new terminal, $ pipenv shell \n",
    "# after executing this command, you can see the path to our virtual env\n",
    "# (C:\\users\\....\\storeonline...\\script\\activae)\n",
    "# Copy this path (up to ../script/) and in the view menu go to the commant palette\n",
    "# and search for \"python interpreter\". select \"the interpreter path\".\n",
    "# Then, paste the address and append (.../script/python3) \n",
    "# (Customize it for windows)\n",
    "from django.http import HttpResponse\n",
    "\n",
    "def product_list(request):\n",
    "    return HttpResponse('ok')"
   ]
  },
  {
   "cell_type": "markdown",
   "metadata": {},
   "source": [
    "The next step is to map this view function to a urlpattern. So, back to project, and create a urls module, urls.py and add:"
   ]
  },
  {
   "cell_type": "code",
   "execution_count": null,
   "metadata": {},
   "outputs": [],
   "source": [
    "from django.urls import path\n",
    "from . import views\n",
    "urlpatterns = [\n",
    "    path('products/', views.product_list)\n",
    "]"
   ]
  },
  {
   "cell_type": "markdown",
   "metadata": {},
   "source": [
    "The above urls module belong to the store app. So, we need to import it to the main urls module. Go to the storeonline folder and  "
   ]
  },
  {
   "cell_type": "code",
   "execution_count": null,
   "metadata": {},
   "outputs": [],
   "source": [
    "urlpatterns = [\n",
    "    ...\n",
    "    path('store/', include('store.urls'))\n",
    "]"
   ]
  },
  {
   "cell_type": "markdown",
   "metadata": {},
   "source": [
    "Now, refresh the browser and see the response 'ok'. This is how we can create a view function in django. In django, we have to classes \"HttpRequest and HttpResponse\". REST framework also has its own \"Request\" and \"Response\" classes. First, import api_view from decorators of rest_framework. If we apply this decorator (@api_view()) to our view function, the request object will become an instance of a request class that comes with the rest_framework. So, this will replace the request object in Django with the newer request object that comes with the rest_framework that is simpler and more powerful. Similarly, we replace HttpResponse object with Response object comes with the rest_framework. So, import Response class from rest_framework:"
   ]
  },
  {
   "cell_type": "code",
   "execution_count": null,
   "metadata": {},
   "outputs": [],
   "source": [
    "from rest_framework.decorators import api_view\n",
    "from rest_framework.response import Response\n",
    "\n",
    "@api_view()\n",
    "def product_list(request):\n",
    "    return Response('ok')"
   ]
  },
  {
   "cell_type": "markdown",
   "metadata": {},
   "source": [
    "With the above code, if we hit the related url one more time, we see a page called __browsable api__. This __browsable api__ makes it incredibly easy to test our api endpoints in the browser. Please note that we see this page only when we hit our endpoints in the browser. If a client app like a mobile app, hits our endpoints, it does not see the browsable api. It only sees the data in the response. Define another function:"
   ]
  },
  {
   "cell_type": "code",
   "execution_count": null,
   "metadata": {},
   "outputs": [],
   "source": [
    "from rest_framework.decorators import api_view\n",
    "from rest_framework.response import Response\n",
    "\n",
    "@api_view()\n",
    "def product_list(request):\n",
    "    return Response('ok')\n",
    "\n",
    "@api_view\n",
    "def product_detail(request, id):\n",
    "    return Response(id)"
   ]
  },
  {
   "cell_type": "markdown",
   "metadata": {},
   "source": [
    "Next step is to map the created view function to the urlpattern. Go to the store>urls.py:"
   ]
  },
  {
   "cell_type": "code",
   "execution_count": null,
   "metadata": {},
   "outputs": [],
   "source": [
    "from django.urls import path\n",
    "from . import views\n",
    "urlpatterns = [\n",
    "    path('products/', views.product_list),\n",
    "    path('products/<id>', views.product_detail)\n",
    "]"
   ]
  },
  {
   "cell_type": "markdown",
   "metadata": {},
   "source": [
    "If we type a sting like \".../store/products/a\", again our endpoint still works and we get a response that is not true. So we can use a convertor like int to this parameter:"
   ]
  },
  {
   "cell_type": "code",
   "execution_count": null,
   "metadata": {},
   "outputs": [],
   "source": [
    "from django.urls import path\n",
    "from . import views\n",
    "urlpatterns = [\n",
    "    path('products/', views.product_list),\n",
    "    path('products/<int:id>', views.product_detail)\n",
    "]"
   ]
  },
  {
   "cell_type": "markdown",
   "metadata": {},
   "source": [
    "#### Creating serializers:"
   ]
  },
  {
   "cell_type": "markdown",
   "metadata": {},
   "source": [
    "We already created an api view. Now, instsead of including 'ok' as a response, we want to include a list of products. So, we need a way to convert product objects to JSON objects. In the Django rest framework, we have a class called \"JSONRender\". This class has a method called \"render(dict)\" that takes a dictionary object and returns a JSON object. So, if we convert product object to a python dictionary, we can pass it to this method and get a JSON object. And this is where serializer comes to the picture.\n",
    "\n",
    "A serializer is an object that knows how to convert a model instance like a product object to a python dictionary. To create a serializer, back to the project and create a file in store folder called \"serializer.py\". In the serializer.py import serializer module from rest_framework and create a class called \"ProductSerializer()\". If you go to www.django-rest-framework.org under \"API Guide>serializer fields\", you can see all types of fields available to us like BooleanField, StringField, CharField, and so on. All these fields have a bunch of \"core arguments\" that are available like read-only, write-only, required, default, etc.. "
   ]
  },
  {
   "cell_type": "code",
   "execution_count": null,
   "metadata": {},
   "outputs": [],
   "source": [
    "from rest_framework import serializers\n",
    "\n",
    "class ProductSerializer(serializers.Serializer):\n",
    "    id = serializers.IntegerField()\n",
    "    title = serializers.CharField(max_length=255)\n",
    "    unit_price = serializers.DecimalField(max_digits=6, decimal_places=2)"
   ]
  },
  {
   "cell_type": "markdown",
   "metadata": {},
   "source": [
    "By having the serializer, we can use it to convert product object to a python dictionary."
   ]
  },
  {
   "cell_type": "markdown",
   "metadata": {},
   "source": [
    "#### Serializing objects:"
   ]
  },
  {
   "cell_type": "markdown",
   "metadata": {},
   "source": [
    "Let's see how we can use serializer to convert a product object with a JSON object and include it in the response. First import Product class and ProductSerializer. Then, edit the product_detail() and create product and serializer objects. By creating the serializer object, this serializer will convert our product object to a dictionary. We can get that dictionary from \"serializer.data\". In this case, Django will create a JSON render object and give it this dictionary, the JSON render will convert that dictionary to a JSON object and the JSON object will end up in the Response. All this procedure is hidden from us!  "
   ]
  },
  {
   "cell_type": "code",
   "execution_count": null,
   "metadata": {},
   "outputs": [],
   "source": [
    "from .models import Product\n",
    "from .serializer import ProductSerializer\n",
    "\n",
    "@api_view()\n",
    "def product_detail(request, id):\n",
    "    product = Product.objects.get(pk=id)\n",
    "    serializer = ProductSerializer(product)\n",
    "    return Response(serializer.data)"
   ]
  },
  {
   "cell_type": "markdown",
   "metadata": {},
   "source": [
    "Now, hit the browser to see the JSON data of product 1 as an example. Note that the value of the unit_price key rendered as a string. In fact, this is one of the default settings in Django rest framework. But, we can easily override it. To do so, back to the project, and go to the storeonilne>settings.py. At the end of this module, we define a new setting:"
   ]
  },
  {
   "cell_type": "code",
   "execution_count": null,
   "metadata": {},
   "outputs": [],
   "source": [
    "REST_FRAMEWORK = {\n",
    "    'COERCE_DECIMAL_TO_STRING': False\n",
    "}"
   ]
  },
  {
   "cell_type": "markdown",
   "metadata": {},
   "source": [
    "Now, if we refresh the page, you see that unit_price is rendered as a decimal value. What if we ask for a product that does not exist, we get an exception. One of the conventions of the RESTful API is that if an object does not exist we should return a response and the status of the response should be __404__. So, __404__ is a standard Http code that means not found. So, we need to wrap the product_detail() function inside a try block:"
   ]
  },
  {
   "cell_type": "code",
   "execution_count": null,
   "metadata": {},
   "outputs": [],
   "source": [
    "@api_view()\n",
    "def product_detail(request, id):\n",
    "    try:\n",
    "        product = Product.objects.get(pk=1)\n",
    "        serializer = ProductSerializer(product)\n",
    "        return Response(serializer.data)\n",
    "    except Product.DoesNotExist:\n",
    "        return Response(status=404)"
   ]
  },
  {
   "cell_type": "markdown",
   "metadata": {},
   "source": [
    "__404__ is a famus code, but generally speaking, we should avoid magic numbers like __404__. It is better to use constants since it makes our code more readable. Here we need to import status module that have a bunch of constants for various Http status codes:"
   ]
  },
  {
   "cell_type": "code",
   "execution_count": null,
   "metadata": {},
   "outputs": [],
   "source": [
    "from rest_framework import status\n",
    "\n",
    "@api_view()\n",
    "def product_detail(request, id):\n",
    "    try:\n",
    "        product = Product.objects.get(pk=1)\n",
    "        serializer = ProductSerializer(product)\n",
    "        return Response(id)\n",
    "    except Product.DoesNotExist:\n",
    "        return Response(status=status.HTTP_404_NOT_FOUND)"
   ]
  },
  {
   "cell_type": "markdown",
   "metadata": {},
   "source": [
    "This is the way of handling the situation that the product does not exist. Repeating this try-except block is time consuming. This is where we use Django shortcuts. To do so, we need to import \"get_object_or_404\" class from shortcuts:"
   ]
  },
  {
   "cell_type": "code",
   "execution_count": null,
   "metadata": {},
   "outputs": [],
   "source": [
    "from django.shortcuts import get_object_or_404\n",
    "@api_view()\n",
    "def product_detail(request, id):\n",
    "        product = get_object_or_404(Product, pk=id)\n",
    "        serializer = ProductSerializer(product)\n",
    "        return Response(serializer.data)"
   ]
  },
  {
   "cell_type": "markdown",
   "metadata": {},
   "source": [
    "For the product_list() class:"
   ]
  },
  {
   "cell_type": "code",
   "execution_count": null,
   "metadata": {},
   "outputs": [],
   "source": [
    "@api_view()\n",
    "def product_list(request):\n",
    "    queryset = Product.objects.all()\n",
    "    serializer = ProductSerializer(queryset, many=True)\n",
    "    return Response(serializer.data)"
   ]
  },
  {
   "cell_type": "markdown",
   "metadata": {},
   "source": [
    "#### Creating custom serializer fields:"
   ]
  },
  {
   "cell_type": "markdown",
   "metadata": {},
   "source": [
    "Objects that we return from API do not necessarily have to look like the objects in our application (data models). The main reason behind this is that our data models are realy implementation details of our application. The implementation may change in the future. We may add new fields in the product class, rename existing fields, even delete them. We do not want these changes to be exposed to the clients. In fact, APIs represent the interface of our application. So, we should keep it stable as much as possible. otherwise, existing client may break. So, if we want to change our API, we have to properly study impact of the change and potentially provide different versions of APIs. Somehow we want to add a new field in the API that does not exist in the data model, say product class. For example, adding a new field called \"price_with_tax\". Also, if you want to use a different name from the name of a field in the product model (for example using \"price\" for the API instead of \"unit_price\", you need to add an argument indicateing \"source='unit_price'\""
   ]
  },
  {
   "cell_type": "code",
   "execution_count": null,
   "metadata": {},
   "outputs": [],
   "source": [
    "from .models import Product\n",
    "from decimal import Decimal\n",
    "\n",
    "\n",
    "class ProductSerializer(serializers.Serializer):\n",
    "    id = serializers.IntegerField()\n",
    "    title = serializers.CharField(max_length=255)\n",
    "    price = serializers.DecimalField(\n",
    "        max_digits=6, decimal_places=2, source='unit_price')\n",
    "    price_with_tax = serializers.SerializerMethodField(\n",
    "        method_name='calculate_tax')\n",
    "\n",
    "    def calculate_tax(self, product: Product):\n",
    "        return product.unit_price * Decimal(1.1)"
   ]
  },
  {
   "cell_type": "markdown",
   "metadata": {},
   "source": [
    "#### Serializing relationships:"
   ]
  },
  {
   "cell_type": "markdown",
   "metadata": {},
   "source": [
    "When we return a product we can include a related object like collection. There are four ways to serialize the relationships: using primary key, string, nested object, and hyperlink. \n",
    "\n",
    "- __Uing primary key:__"
   ]
  },
  {
   "cell_type": "code",
   "execution_count": null,
   "metadata": {},
   "outputs": [],
   "source": [
    "from .models import Product, Collection\n",
    "\n",
    "class ProductSerializer(serializers.Serializer):\n",
    "    ...\n",
    "    collection = serializers.PrimaryKeyRelatedField(\n",
    "        queryset=Collection.objects.all()\n",
    "    )"
   ]
  },
  {
   "cell_type": "markdown",
   "metadata": {},
   "source": [
    "- __Using string:__ \n",
    "Another way is to return collection as a string. So, we can return the name of each collection using \"StringRelatedField()\" method.:"
   ]
  },
  {
   "cell_type": "code",
   "execution_count": null,
   "metadata": {},
   "outputs": [],
   "source": [
    "class ProductSerializer(serializers.Serializer):\n",
    "    id = serializers.IntegerField()\n",
    "    title = serializers.CharField(max_length=255)\n",
    "    ...\n",
    "    collection = serializers.StringRelatedField()"
   ]
  },
  {
   "cell_type": "markdown",
   "metadata": {},
   "source": [
    "But in this case, we have extra queries for each product that it is time consuming and impacts the performance. To avoid, got to the product_list() finction in the views module in the store app and include \"select_related()\" in queryset:"
   ]
  },
  {
   "cell_type": "code",
   "execution_count": null,
   "metadata": {},
   "outputs": [],
   "source": [
    "@api_view()\n",
    "def product_list(request):\n",
    "    queryset = Product.objects.select_related('collection').all()\n",
    "    ...\n",
    "    return Response(serializer.data)"
   ]
  },
  {
   "cell_type": "markdown",
   "metadata": {},
   "source": [
    "The serializer is as before. Just refresh the page and see you get the results instantly."
   ]
  },
  {
   "cell_type": "markdown",
   "metadata": {},
   "source": [
    "- __Nested object:__ \n",
    "a proper approach is including nested object like Collection object in the JSON data. Back to serializer, and create collection serializer:"
   ]
  },
  {
   "cell_type": "code",
   "execution_count": null,
   "metadata": {},
   "outputs": [],
   "source": [
    "class CollectionSerializer(serializers.Serializer):\n",
    "    id = serializers.IntegerField()\n",
    "    title = serializers.CharField(max_length=255)"
   ]
  },
  {
   "cell_type": "markdown",
   "metadata": {},
   "source": [
    "Then, to include nested object all we have to do is to use CollectionSerializer:"
   ]
  },
  {
   "cell_type": "code",
   "execution_count": null,
   "metadata": {},
   "outputs": [],
   "source": [
    "class ProductSerializer(serializers.Serializer):\n",
    "    ...\n",
    "    collection = CollectionSerializer()"
   ]
  },
  {
   "cell_type": "markdown",
   "metadata": {},
   "source": [
    "- __Using hyperlink:__\n",
    "Instead of using object, we can include a hypterlink to an endpoint for viewing that collection. Back to the serializer and set the collection to HypterLinkRelatedField() where we should set two arguments, one is queryset and another is view_name that is used for generating hyperlinks."
   ]
  },
  {
   "cell_type": "code",
   "execution_count": null,
   "metadata": {},
   "outputs": [],
   "source": [
    "class ProductSerializer(serializers.Serializer):\n",
    "    ...\n",
    "    collection = serializers.HyperlinkedRelatedField(\n",
    "        queryset=Collection.objects.all(),\n",
    "        view_name='collection-detail'\n",
    "    )"
   ]
  },
  {
   "cell_type": "markdown",
   "metadata": {},
   "source": [
    "Now, we need to create a view for 'collection-detail' in urls module. So in the store > urls.py"
   ]
  },
  {
   "cell_type": "code",
   "execution_count": null,
   "metadata": {},
   "outputs": [],
   "source": [
    "urlpatterns = [\n",
    "    ...\n",
    "    path('collection/<int:id>', views.collection_detail,\n",
    "         name='collection-detail'),\n",
    "]"
   ]
  },
  {
   "cell_type": "markdown",
   "metadata": {},
   "source": [
    "Go to the store > views.py and create the related view function:"
   ]
  },
  {
   "cell_type": "code",
   "execution_count": null,
   "metadata": {},
   "outputs": [],
   "source": [
    "@api_view()\n",
    "def collection_detail(request, id):\n",
    "    return Response('ok')"
   ]
  },
  {
   "cell_type": "markdown",
   "metadata": {},
   "source": [
    "Refresh the page and sometimes you see an exception like:\n",
    "\n",
    "`HyperlinkedRelatedField` requires the request in the serializer context. Add `context={'request': request}` when instantiating the serializer.\n",
    "\n",
    "In this case, we need to pass our request object to our serializer. Because the request contains informaion abour urls. So, back to views module, in the product_detail() function, set the context in a line of code that we initialize our ProductSerializer as follows:"
   ]
  },
  {
   "cell_type": "code",
   "execution_count": null,
   "metadata": {},
   "outputs": [],
   "source": [
    "@api_view()\n",
    "def product_list(request):\n",
    "    ...\n",
    "    serializer = ProductSerializer(\n",
    "        queryset, many=True, context={'request': request})\n",
    "    return Response(serializer.data)"
   ]
  },
  {
   "cell_type": "markdown",
   "metadata": {},
   "source": [
    "Again you may see a different kind of error:\n",
    "\n",
    "Could not resolve URL for hyperlinked relationship using view name \"collection-detail\". You may have failed to include the related model in your API, or incorrectly configured the `lookup_field` attribute on this field.\n",
    "\n",
    "\n",
    "This is becuase Django rest framework expects certain convention where instead of \"id\" we should use \"pk\". Please note that you need to modify it in collection_detail() function in views module:"
   ]
  },
  {
   "cell_type": "code",
   "execution_count": null,
   "metadata": {},
   "outputs": [],
   "source": [
    "# In store>urls.py\n",
    "urlpatterns = [\n",
    "    ...\n",
    "    path('collection/<int:pk>', views.collection_detail,\n",
    "         name='collection-detail'),\n",
    "]\n",
    "\n",
    "# In views.py\n",
    "@api_view()\n",
    "def collection_detail(request, pk):\n",
    "    return Response('ok')"
   ]
  },
  {
   "cell_type": "markdown",
   "metadata": {},
   "source": [
    "#### Model serializer:"
   ]
  },
  {
   "cell_type": "markdown",
   "metadata": {},
   "source": [
    "You might think so far we are repeating ourselves. All the classes we defined in serializer are already defined in the model classes. So, if we decide to chenge or modify these fields in the future, we have to modify them in both places. The better way is using ModelSerializer. Using a ModelSerializer class we can quickly create a serializer withour all this duplicatons. "
   ]
  },
  {
   "cell_type": "code",
   "execution_count": null,
   "metadata": {},
   "outputs": [],
   "source": [
    "class CollectionSerializer(serializers.ModelSerializer):\n",
    "    class Meta:\n",
    "        model = Collection\n",
    "        fields = ['id', 'title']\n",
    "\n",
    "\n",
    "class ProductSerializer(serializers.ModelSerializer):\n",
    "    class Meta:\n",
    "        model = Product\n",
    "        fields = ['id', 'title', 'price', 'price_with_tax', 'collection']\n",
    "    price = serializers.DecimalField(\n",
    "        max_digits=6, decimal_places=2, source='unit_price')\n",
    "    price_with_tax = serializers.SerializerMethodField(\n",
    "        method_name='calculate_tax')"
   ]
  },
  {
   "cell_type": "markdown",
   "metadata": {},
   "source": [
    "Another but, not prefered way is using '__ all __':"
   ]
  },
  {
   "cell_type": "code",
   "execution_count": null,
   "metadata": {},
   "outputs": [],
   "source": [
    "class ProductSerializer(serializers.ModelSerializer):\n",
    "    class Meta:\n",
    "        model = Product\n",
    "        fields = '__all__'"
   ]
  },
  {
   "cell_type": "markdown",
   "metadata": {},
   "source": [
    "#### Deserializing objects:"
   ]
  },
  {
   "cell_type": "markdown",
   "metadata": {},
   "source": [
    "Deserialization happens when we receive data from clients. For example, in the client we want to create a new produt. To do this, we should send a POST request to the products endpoint (POST /product) and in the body of the request we should include product object. Now, on the server we have to read the data from the body of the request and deserialize it. So, we get a product object and store it in the database. Back to the porduct_list view function and pass some arguments to api_view(). We have to pass an argument to array of strings that specify the HTTP methods we support at this endpoint. Previously we did not have to do this because 'Get' is supported by default. But since we want to support 'POST' mothod is well, we need to explicitly pass the following array to api_view(). So, in store > views.py:"
   ]
  },
  {
   "cell_type": "code",
   "execution_count": null,
   "metadata": {},
   "outputs": [],
   "source": [
    "@api_view(['GET', 'POST'])\n",
    "def product_list(request):\n",
    "    if request.method == 'GET':\n",
    "        queryset = Product.objects.select_related('collection').all()\n",
    "        serializer = ProductSerializer(\n",
    "            queryset, many=True, context={'request': request})\n",
    "        return Response(serializer.data)\n",
    "    elif request.method == 'POST':\n",
    "        serializer = ProductSerializer(data=request.data)\n",
    "        # serializer.validated_data\n",
    "        return Response('OKOKOK')"
   ]
  },
  {
   "cell_type": "markdown",
   "metadata": {},
   "source": [
    "#### Data validation:"
   ]
  },
  {
   "cell_type": "markdown",
   "metadata": {},
   "source": [
    "Before we can access the validated data attribute, first we have to validate the data, otherwise, we get an exception like this:\n",
    "\n",
    "You must call `.is_valid()` before accessing `.validated_data`."
   ]
  },
  {
   "cell_type": "code",
   "execution_count": null,
   "metadata": {},
   "outputs": [],
   "source": [
    "@api_view(['GET', 'POST'])\n",
    "def product_list(request):\n",
    "    if request.method == 'GET':\n",
    "        ...\n",
    "    elif request.method == 'POST':\n",
    "        serializer = ProductSerializer(data=request.data)\n",
    "        if serializer.is_valid():\n",
    "            serializer.validated_data\n",
    "            return Response('OKOKOK')\n",
    "        else:\n",
    "            return Response(serializer.errors, status=status.HTTP_400_BAD_REQUEST)"
   ]
  },
  {
   "cell_type": "markdown",
   "metadata": {},
   "source": [
    "There is another way to right this code that is cleaner and more consice:"
   ]
  },
  {
   "cell_type": "code",
   "execution_count": null,
   "metadata": {},
   "outputs": [],
   "source": [
    "@api_view(['GET', 'POST'])\n",
    "def product_list(request):\n",
    "    if request.method == 'GET':\n",
    "    ...\n",
    "    elif request.method == 'POST':\n",
    "        serializer = ProductSerializer(data=request.data)\n",
    "        serializer.is_valid(raise_exception=True)\n",
    "        serializer.validated_data\n",
    "        return Response('OKOKOK')"
   ]
  },
  {
   "cell_type": "markdown",
   "metadata": {},
   "source": [
    "Now, let's look at the validated data attribute. "
   ]
  },
  {
   "cell_type": "code",
   "execution_count": null,
   "metadata": {},
   "outputs": [],
   "source": [
    "@api_view(['GET', 'POST'])\n",
    "def product_list(request):\n",
    "    if request.method == 'GET':\n",
    "    ...\n",
    "        ...\n",
    "        print(serializer.validated_data)\n",
    "        return Response('OKOKOK')"
   ]
  },
  {
   "cell_type": "markdown",
   "metadata": {},
   "source": [
    "And pass a valide product object to see the validated object dictionary:\n",
    "\n",
    "> {\n",
    "> \"title\":\"a\",\n",
    "> \"unit_price\":1,\n",
    "> \"collection\":1\n",
    ">}"
   ]
  },
  {
   "cell_type": "markdown",
   "metadata": {},
   "source": [
    "Another issue is validation at the object level. There are situations validating th request data in both comparing multiple fields. For exampple, think of a senario where a user registers. So, we have a user name as well as password and confirm password. We want to make sure that two fields are equal. With the current implementation we cannot achive this. To do so, back to serializer.py and define a validate method in store > serializer.py:"
   ]
  },
  {
   "cell_type": "code",
   "execution_count": null,
   "metadata": {},
   "outputs": [],
   "source": [
    "class ProductSerializer(serializers.ModelSerializer):\n",
    "    ... \n",
    "    def validate(self, data):\n",
    "        if data['password'] != data['confirm_password']:\n",
    "            return serializers.ValidationError('Password do not match')\n",
    "        return data"
   ]
  },
  {
   "cell_type": "markdown",
   "metadata": {},
   "source": [
    "#### Saving objects:"
   ]
  },
  {
   "cell_type": "markdown",
   "metadata": {},
   "source": [
    "Our ProductSerializer has inherited from ModelSerializer. This ModelSerializer has a \"save()\" method we can use to create or update the results. Back to serializer.py:"
   ]
  },
  {
   "cell_type": "code",
   "execution_count": null,
   "metadata": {},
   "outputs": [],
   "source": [
    "@api_view(['GET', 'POST'])\n",
    "def product_list(request):\n",
    "    if request.method == 'GET':\n",
    "    ...\n",
    "    elif request.method == 'POST':\n",
    "        serializer = ProductSerializer(data=request.data)\n",
    "        serializer.is_valid(raise_exception=True)\n",
    "        serializer.save()\n",
    "        #serializer.validated_data\n",
    "        return Response('OKOKOK')"
   ]
  },
  {
   "cell_type": "markdown",
   "metadata": {},
   "source": [
    "Please note that the required fields should be included in the ProductSerializer and add 'slug' and 'inventory'."
   ]
  },
  {
   "cell_type": "code",
   "execution_count": null,
   "metadata": {},
   "outputs": [],
   "source": [
    "class ProductSerializer(serializers.ModelSerializer):\n",
    "    class Meta:\n",
    "        model = Product\n",
    "        fields = ['id', 'title', 'description', 'slug', 'inventory',\n",
    "                  'price', 'price_with_tax', 'collection']\n",
    "    price = serializers.DecimalField(\n",
    "        max_digits=6, decimal_places=2, source='unit_price')\n",
    "    price_with_tax = serializers.SerializerMethodField(\n",
    "        method_name='calculate_tax')"
   ]
  },
  {
   "cell_type": "markdown",
   "metadata": {},
   "source": [
    "There is situation where we want to override how a product is created. Perhapse we want set special fields or associate a product with another object in our database. So, back to ProductSerializer class, here we can override a create or update method. "
   ]
  },
  {
   "cell_type": "code",
   "execution_count": null,
   "metadata": {},
   "outputs": [],
   "source": [
    "def create(self, validated_data):\n",
    "        # Create a product object and unpack (use **) the dictionary \"validated_data\"\n",
    "        product = Product(**validated_data)\n",
    "        # Then, set those special fields\n",
    "        product.other = 1\n",
    "        product.save()\n",
    "        return product\n",
    "\n",
    "    def update(self, instance, validated_data):\n",
    "        # get special field\n",
    "        instance.unit_price = validated_data.get('unit_price')\n",
    "        instance.save()\n",
    "        return instance"
   ]
  },
  {
   "cell_type": "markdown",
   "metadata": {},
   "source": [
    "In this case, we do not need to write the above codes since Djanfo rest framework will automatically set them for us. "
   ]
  },
  {
   "cell_type": "markdown",
   "metadata": {},
   "source": [
    "To update a product, we should modify the product_detail() function. Because to update a product, we need to send a 'PATCH' or 'PUT' request to a particular product like product with id=1. "
   ]
  },
  {
   "cell_type": "code",
   "execution_count": null,
   "metadata": {},
   "outputs": [],
   "source": [
    "@api_view(['GET', 'PUT'])\n",
    "def product_detail(request, pk):\n",
    "    product = get_object_or_404(Product, pk=pk)\n",
    "    if request.method == 'GET':\n",
    "        serializer = ProductSerializer(product, context={'request': request})\n",
    "        return Response(serializer.data)\n",
    "    elif request.method == 'PUT':\n",
    "        serializer = ProductSerializer(product, data=request.data)\n",
    "        serializer.is_valid(raise_exception=True)\n",
    "        serializer.save()\n",
    "        return Response(serializer.data)"
   ]
  },
  {
   "cell_type": "markdown",
   "metadata": {},
   "source": [
    "#### Deleting objects:"
   ]
  },
  {
   "cell_type": "code",
   "execution_count": null,
   "metadata": {},
   "outputs": [],
   "source": [
    "@api_view(['GET', 'PUT', 'DELETE'])\n",
    "def product_detail(request, pk):\n",
    "    product = get_object_or_404(Product, pk=pk)\n",
    "    if request.method == 'GET':\n",
    "        ...\n",
    "    elif request.method == 'PUT':\n",
    "        ...\n",
    "    elif request.method == 'DELETE':\n",
    "        product.delete()\n",
    "        return Response(status=status.HTTP_204_NO_CONTENT)"
   ]
  },
  {
   "cell_type": "markdown",
   "metadata": {},
   "source": [
    "When we implement the delete funcion to delete an specific product, we may get an error:\n",
    "\n",
    "(\"Cannot delete some instances of model 'Product' because they are referenced through protected foreign keys: 'OrderItem.product'.\", {<OrderItem: OrderItem object (40)>, <OrderItem: OrderItem object (765)>})\n",
    "\n",
    "Here we have orderitems that are associated with this product. so, we can not delete this product. To return a proper response, in the body of the response we want to include an error message. To find all the HTTP status code got to www.httpstatuses.com."
   ]
  },
  {
   "cell_type": "code",
   "execution_count": null,
   "metadata": {},
   "outputs": [],
   "source": [
    "@api_view(['GET', 'PUT', 'DELETE'])\n",
    "def product_detail(request, pk):\n",
    "    product = get_object_or_404(Product, pk=pk)\n",
    "    if request.method == 'GET':\n",
    "        ...\n",
    "    elif request.method == 'PUT':\n",
    "        ...\n",
    "    elif request.method == 'DELETE':\n",
    "        if product.orderitem_set.count() > 0:\n",
    "            return Response({'error': 'The product cannot be deleted because it is associated with an order item'}, status=status.HTTP_405_METHOD_NOT_ALLOWED)\n",
    "        product.delete()\n",
    "        return Response(status=status.HTTP_204_NO_CONTENT)"
   ]
  },
  {
   "cell_type": "markdown",
   "metadata": {},
   "source": [
    "#### Exercise: Building the collections APIs:"
   ]
  },
  {
   "cell_type": "markdown",
   "metadata": {},
   "source": [
    "Implement the collecions endpoint. At the (.../store/collections) we get all the collections in our database as well as the numbers of each collection. In this case, you can create a collection. In another endpoint like (.../store/collections/<id>) where we can get, update, and delete that collection:"
   ]
  },
  {
   "cell_type": "markdown",
   "metadata": {},
   "source": [
    "## <font color=\"blue\">3-Advanced API concepts</font>"
   ]
  },
  {
   "cell_type": "markdown",
   "metadata": {},
   "source": [
    "#### Class-based views:"
   ]
  },
  {
   "cell_type": "markdown",
   "metadata": {},
   "source": [
    "All the views we have created so far is function-based views. But, Django rest framework views also supports class-based views that makes our codes cleaner and more concise and provides a lot of reuse opportunities. First, we need to import APIView from views module of rest_framework:"
   ]
  },
  {
   "cell_type": "code",
   "execution_count": null,
   "metadata": {},
   "outputs": [],
   "source": [
    "from rest_framework.views import APIView\n",
    "\n",
    "class ProductList(APIView):\n",
    "    def get(self, request):\n",
    "        queryset = Product.objects.select_related('collection').all()\n",
    "        serializer = ProductSerializer(\n",
    "            queryset, many=True, context={'request': request})\n",
    "        return Response(serializer.data)\n",
    "\n",
    "    def post(self, request):\n",
    "        serializer = ProductSerializer(data=request.data)\n",
    "        serializer.is_valid(raise_exception=True)\n",
    "        serializer.save()\n",
    "        # print(serializer.validated_data)\n",
    "        return Response(serializer.data, status=status.HTTP_201_CREATED)"
   ]
  },
  {
   "cell_type": "markdown",
   "metadata": {},
   "source": [
    "In order to use this class, we need to go to the urls.py and reference our ProductList class. This class has a method called \"as_view()\". Calling this method, it will convert the based-class view to the regular function-based view."
   ]
  },
  {
   "cell_type": "code",
   "execution_count": null,
   "metadata": {},
   "outputs": [],
   "source": [
    "urlpatterns = [\n",
    "    path('products/', views.ProductList.as_view()),\n",
    "    ...\n",
    "]"
   ]
  },
  {
   "cell_type": "markdown",
   "metadata": {},
   "source": [
    "#### Mixins:"
   ]
  },
  {
   "cell_type": "markdown",
   "metadata": {},
   "source": [
    "Class-based views provides a lot of reuse opportunites. A Mixin is a class that capsulate a pattern of code to avoid code repeatitions. First, imprort ListModelMixin and CreateModelMixin from rest_framework.mixins module. To look at this classes, hold ctrl key and click on each class. Hold \"ctrl+shift +o\" to see all the simbols in that module. \n",
    "\n",
    "In www.django-rest-framework.org, under \"API guide\", look at \"Generic views\" and on the left you can see all the Mixins."
   ]
  },
  {
   "cell_type": "markdown",
   "metadata": {},
   "source": [
    "#### Generic views:"
   ]
  },
  {
   "cell_type": "markdown",
   "metadata": {},
   "source": [
    "Most of the time, we are not going to use Mixins directly. Instead, we use Conceret View Classes that combine one or more Mixins. These classes are called Generic view. These classes are imported from rest_framework.generics. For example, a class called ListCreateAPIView combines two Mixins (that are its parents as well as GenericAPIView), ListModelMixin and CreateModelMixin. GenericAPIView has a bunch of methods or attributs for overriding in our custom views. For example, we have \"get_queryset()\" for creating a queryset object and \"get_serializer_class()\" for specifying the type of serializer we want to use in our view.\n",
    "\n",
    "The ListCreateAPIView class has two methods, The first method is the \"get()\" methods for listing a queryset and deligate to the \"list()\" method of the current object. The list method is the results of inheritance from the ListModelMixin class where lists a bunch of objects. The seconde method is \"post()\" method for creating a model object and deligates to the \"create()\" method of the current object which have inherited from the CreateModelMixin. So, a Generic view is a conceret class that combines one or more Mixins and provides handler methods like get(), post(), put(), and delete(). \n",
    "\n",
    "Another generic view is ListAPIView class that only has listing functionality and we can only list our resources using this class. Similarly, we have RetriveAPIView, for retriving functionality. Now, let's see how we can use generic views. "
   ]
  },
  {
   "cell_type": "code",
   "execution_count": null,
   "metadata": {},
   "outputs": [],
   "source": [
    "class ProductList(ListCreateAPIView):\n",
    "    def get_queryset(self):\n",
    "        return Product.objects.select_related('collection').all()\n",
    "\n",
    "    def get_serializer_class(self):\n",
    "        return ProductSerializer\n",
    "\n",
    "    def get_serializer_context(self):\n",
    "        return {'request': self.request}"
   ]
  },
  {
   "cell_type": "markdown",
   "metadata": {},
   "source": [
    "We can make the above class even more concise. In the GenericAPIView class, we have two attributes called, __queryset__ and __serializer_class__. If you want to have some logics or condictions for creating a queryset or a serializer, we can implement those logics in \"get_queryset()\" and \"get_serializer_class()\" methods. For example, when we want to check the current user and provide different querysets depending on the current user and their permissions. Different users also can have different serializer classes. But if we do not have any special logic and simply want to return and expression or class, we can use these attributes, say __queryset__ and __serializer_class__."
   ]
  },
  {
   "cell_type": "code",
   "execution_count": null,
   "metadata": {},
   "outputs": [],
   "source": [
    "class ProductList(ListCreateAPIView):\n",
    "    queryset = Product.objects.select_related('collection').all()\n",
    "    serializer_class = ProductSerializer\n",
    "\n",
    "    def get_serializer_context(self):\n",
    "        return {'request': self.request}"
   ]
  },
  {
   "cell_type": "markdown",
   "metadata": {},
   "source": [
    "#### Customizing generic views:"
   ]
  },
  {
   "cell_type": "markdown",
   "metadata": {},
   "source": [
    "There are situations where the Generic view may not work for us. Let's see how we can customize it. We need to use RetriveUpdateDestroyAPIView:"
   ]
  },
  {
   "cell_type": "code",
   "execution_count": null,
   "metadata": {},
   "outputs": [],
   "source": [
    "class ProductDetail(RetrieveUpdateDestroyAPIView):\n",
    "    queryset = Product.objects.all()\n",
    "    serializer_class = ProductSerializer\n",
    "\n",
    "    def delete(self, request, pk):\n",
    "        product = get_object_or_404(Product, pk=pk)\n",
    "        if product.orderitem_set.count() > 0:\n",
    "            return Response({'error': 'The product cannot be deleted because it is associated with an order item'}, status=status.HTTP_405_METHOD_NOT_ALLOWED)\n",
    "        product.delete()\n",
    "        return Response(status=status.HTTP_204_NO_CONTENT)"
   ]
  },
  {
   "cell_type": "markdown",
   "metadata": {},
   "source": [
    "To customize the url parameter in urls.py,  use \"lookup_field = 'id'\" in ProductDetail class."
   ]
  },
  {
   "cell_type": "markdown",
   "metadata": {},
   "source": [
    "#### ViewSets:"
   ]
  },
  {
   "cell_type": "code",
   "execution_count": null,
   "metadata": {},
   "outputs": [],
   "source": []
  }
 ],
 "metadata": {
  "kernelspec": {
   "display_name": "Python 3",
   "language": "python",
   "name": "python3"
  },
  "language_info": {
   "codemirror_mode": {
    "name": "ipython",
    "version": 3
   },
   "file_extension": ".py",
   "mimetype": "text/x-python",
   "name": "python",
   "nbconvert_exporter": "python",
   "pygments_lexer": "ipython3",
   "version": "3.8.3"
  }
 },
 "nbformat": 4,
 "nbformat_minor": 4
}
